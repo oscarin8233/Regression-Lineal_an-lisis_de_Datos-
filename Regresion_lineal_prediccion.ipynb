{
 "cells": [
  {
   "cell_type": "code",
   "execution_count": null,
   "id": "d86e5171-ecba-4e51-a06a-dc8be1d8dd8f",
   "metadata": {},
   "outputs": [],
   "source": [
    "# REGRESION LINEAL OSCAR ROCHA GÓMEZ"
   ]
  },
  {
   "cell_type": "code",
   "execution_count": 202,
   "id": "c9fffab8-2d39-42d7-8fb6-c901cb016f48",
   "metadata": {},
   "outputs": [
    {
     "name": "stdout",
     "output_type": "stream",
     "text": [
      "Defaulting to user installation because normal site-packages is not writeable\n",
      "Requirement already satisfied: numpy in c:\\programdata\\anaconda3\\lib\\site-packages (1.26.4)\n",
      "Requirement already satisfied: pandas in c:\\programdata\\anaconda3\\lib\\site-packages (2.2.2)\n",
      "Requirement already satisfied: scikit-learn in c:\\programdata\\anaconda3\\lib\\site-packages (1.4.2)\n",
      "Requirement already satisfied: matplotlib in c:\\programdata\\anaconda3\\lib\\site-packages (3.8.4)\n",
      "Requirement already satisfied: python-dateutil>=2.8.2 in c:\\programdata\\anaconda3\\lib\\site-packages (from pandas) (2.9.0.post0)\n",
      "Requirement already satisfied: pytz>=2020.1 in c:\\programdata\\anaconda3\\lib\\site-packages (from pandas) (2024.1)\n",
      "Requirement already satisfied: tzdata>=2022.7 in c:\\programdata\\anaconda3\\lib\\site-packages (from pandas) (2023.3)\n",
      "Requirement already satisfied: scipy>=1.6.0 in c:\\programdata\\anaconda3\\lib\\site-packages (from scikit-learn) (1.13.1)\n",
      "Requirement already satisfied: joblib>=1.2.0 in c:\\programdata\\anaconda3\\lib\\site-packages (from scikit-learn) (1.4.2)\n",
      "Requirement already satisfied: threadpoolctl>=2.0.0 in c:\\programdata\\anaconda3\\lib\\site-packages (from scikit-learn) (2.2.0)\n",
      "Requirement already satisfied: contourpy>=1.0.1 in c:\\programdata\\anaconda3\\lib\\site-packages (from matplotlib) (1.2.0)\n",
      "Requirement already satisfied: cycler>=0.10 in c:\\programdata\\anaconda3\\lib\\site-packages (from matplotlib) (0.11.0)\n",
      "Requirement already satisfied: fonttools>=4.22.0 in c:\\programdata\\anaconda3\\lib\\site-packages (from matplotlib) (4.51.0)\n",
      "Requirement already satisfied: kiwisolver>=1.3.1 in c:\\programdata\\anaconda3\\lib\\site-packages (from matplotlib) (1.4.4)\n",
      "Requirement already satisfied: packaging>=20.0 in c:\\programdata\\anaconda3\\lib\\site-packages (from matplotlib) (23.2)\n",
      "Requirement already satisfied: pillow>=8 in c:\\programdata\\anaconda3\\lib\\site-packages (from matplotlib) (10.3.0)\n",
      "Requirement already satisfied: pyparsing>=2.3.1 in c:\\programdata\\anaconda3\\lib\\site-packages (from matplotlib) (3.0.9)\n",
      "Requirement already satisfied: six>=1.5 in c:\\programdata\\anaconda3\\lib\\site-packages (from python-dateutil>=2.8.2->pandas) (1.16.0)\n",
      "Note: you may need to restart the kernel to use updated packages.\n"
     ]
    }
   ],
   "source": [
    "pip install numpy pandas scikit-learn matplotlib\n"
   ]
  },
  {
   "cell_type": "code",
   "execution_count": 388,
   "id": "26b2bc24-9597-46c2-bc26-0e1162bb7e66",
   "metadata": {},
   "outputs": [
    {
     "name": "stdout",
     "output_type": "stream",
     "text": [
      "Defaulting to user installation because normal site-packages is not writeable\n",
      "Requirement already satisfied: xgboost in c:\\users\\oscar rocha gomez\\appdata\\roaming\\python\\python312\\site-packages (2.1.1)\n",
      "Requirement already satisfied: numpy in c:\\programdata\\anaconda3\\lib\\site-packages (from xgboost) (1.26.4)\n",
      "Requirement already satisfied: scipy in c:\\programdata\\anaconda3\\lib\\site-packages (from xgboost) (1.13.1)\n",
      "Note: you may need to restart the kernel to use updated packages.\n"
     ]
    }
   ],
   "source": [
    "pip install xgboost"
   ]
  },
  {
   "cell_type": "code",
   "execution_count": 217,
   "id": "c82c70cb-8ff9-4436-a0e3-5dbc6ed74642",
   "metadata": {},
   "outputs": [],
   "source": [
    "import os # sistema operativo\n",
    "import pandas as pd # Manejo y análisis de estructuras de datos\n",
    "import numpy as np # Cálculo numérico y el análisis de datos\n",
    "import seaborn as sns # Creación gráficos estadísticos\n",
    "import matplotlib.pyplot as plt # Creación de gráficos en dos dimensiones\n",
    "%matplotlib inline\n",
    "import warnings\n",
    "# librerías de para implementar modelos de ciencia de datos\n",
    "from sklearn import metrics\n",
    "from sklearn.model_selection import train_test_split\n",
    "from sklearn.linear_model import LinearRegression\n",
    "from sklearn.metrics import r2_score\n",
    "from sklearn.metrics import classification_report, confusion_matrix\n",
    "from sklearn.preprocessing import StandardScaler\n",
    "from sklearn.metrics import mean_squared_error\n",
    "from sklearn.linear_model import LinearRegression\n"
   ]
  },
  {
   "cell_type": "code",
   "execution_count": null,
   "id": "5952e285-b58e-4fe1-94f8-142a6137ac9f",
   "metadata": {},
   "outputs": [],
   "source": [
    "warnings.filterwarnings('ignore')"
   ]
  },
  {
   "cell_type": "code",
   "execution_count": null,
   "id": "32629aa8-cba1-4f8d-9a19-a648c6d74fc4",
   "metadata": {},
   "outputs": [],
   "source": [
    "# PASO 1: Análisis exploratorio de los datos para identificar relaciones entre variables, valores atipicos, tendencias, ect"
   ]
  },
  {
   "cell_type": "code",
   "execution_count": 22,
   "id": "f43cb181-b054-483d-8299-85d5560021df",
   "metadata": {},
   "outputs": [
    {
     "data": {
      "text/plain": [
       "'C:\\\\Users\\\\Oscar Rocha Gomez'"
      ]
     },
     "execution_count": 22,
     "metadata": {},
     "output_type": "execute_result"
    }
   ],
   "source": [
    "os.getcwd()"
   ]
  },
  {
   "cell_type": "code",
   "execution_count": 24,
   "id": "fa44fedb-4d81-463a-a154-60b90c805451",
   "metadata": {},
   "outputs": [],
   "source": [
    "data = pd.read_csv(\"C:\\\\Users\\\\Oscar Rocha Gomez\\\\Documents\\\\UNAD\\\\16-04-II-2024\\\\ANALISIS DE DATOS\\\\car data.csv\")"
   ]
  },
  {
   "cell_type": "code",
   "execution_count": 26,
   "id": "3fe745c8-4974-4c80-bb52-2636e54919fc",
   "metadata": {},
   "outputs": [
    {
     "data": {
      "text/html": [
       "<div>\n",
       "<style scoped>\n",
       "    .dataframe tbody tr th:only-of-type {\n",
       "        vertical-align: middle;\n",
       "    }\n",
       "\n",
       "    .dataframe tbody tr th {\n",
       "        vertical-align: top;\n",
       "    }\n",
       "\n",
       "    .dataframe thead th {\n",
       "        text-align: right;\n",
       "    }\n",
       "</style>\n",
       "<table border=\"1\" class=\"dataframe\">\n",
       "  <thead>\n",
       "    <tr style=\"text-align: right;\">\n",
       "      <th></th>\n",
       "      <th>Car_Name</th>\n",
       "      <th>Year</th>\n",
       "      <th>Selling_Price</th>\n",
       "      <th>Present_Price</th>\n",
       "      <th>Kms_Driven</th>\n",
       "      <th>Fuel_Type</th>\n",
       "      <th>Seller_Type</th>\n",
       "      <th>Transmission</th>\n",
       "      <th>Owner</th>\n",
       "    </tr>\n",
       "  </thead>\n",
       "  <tbody>\n",
       "    <tr>\n",
       "      <th>0</th>\n",
       "      <td>ritz</td>\n",
       "      <td>2014</td>\n",
       "      <td>3.35</td>\n",
       "      <td>5.59</td>\n",
       "      <td>27000</td>\n",
       "      <td>Petrol</td>\n",
       "      <td>Dealer</td>\n",
       "      <td>Manual</td>\n",
       "      <td>0</td>\n",
       "    </tr>\n",
       "    <tr>\n",
       "      <th>1</th>\n",
       "      <td>sx4</td>\n",
       "      <td>2013</td>\n",
       "      <td>4.75</td>\n",
       "      <td>9.54</td>\n",
       "      <td>43000</td>\n",
       "      <td>Diesel</td>\n",
       "      <td>Dealer</td>\n",
       "      <td>Manual</td>\n",
       "      <td>0</td>\n",
       "    </tr>\n",
       "    <tr>\n",
       "      <th>2</th>\n",
       "      <td>ciaz</td>\n",
       "      <td>2017</td>\n",
       "      <td>7.25</td>\n",
       "      <td>9.85</td>\n",
       "      <td>6900</td>\n",
       "      <td>Petrol</td>\n",
       "      <td>Dealer</td>\n",
       "      <td>Manual</td>\n",
       "      <td>0</td>\n",
       "    </tr>\n",
       "    <tr>\n",
       "      <th>3</th>\n",
       "      <td>wagon r</td>\n",
       "      <td>2011</td>\n",
       "      <td>2.85</td>\n",
       "      <td>4.15</td>\n",
       "      <td>5200</td>\n",
       "      <td>Petrol</td>\n",
       "      <td>Dealer</td>\n",
       "      <td>Manual</td>\n",
       "      <td>0</td>\n",
       "    </tr>\n",
       "    <tr>\n",
       "      <th>4</th>\n",
       "      <td>swift</td>\n",
       "      <td>2014</td>\n",
       "      <td>4.60</td>\n",
       "      <td>6.87</td>\n",
       "      <td>42450</td>\n",
       "      <td>Diesel</td>\n",
       "      <td>Dealer</td>\n",
       "      <td>Manual</td>\n",
       "      <td>0</td>\n",
       "    </tr>\n",
       "    <tr>\n",
       "      <th>...</th>\n",
       "      <td>...</td>\n",
       "      <td>...</td>\n",
       "      <td>...</td>\n",
       "      <td>...</td>\n",
       "      <td>...</td>\n",
       "      <td>...</td>\n",
       "      <td>...</td>\n",
       "      <td>...</td>\n",
       "      <td>...</td>\n",
       "    </tr>\n",
       "    <tr>\n",
       "      <th>296</th>\n",
       "      <td>city</td>\n",
       "      <td>2016</td>\n",
       "      <td>9.50</td>\n",
       "      <td>11.60</td>\n",
       "      <td>33988</td>\n",
       "      <td>Diesel</td>\n",
       "      <td>Dealer</td>\n",
       "      <td>Manual</td>\n",
       "      <td>0</td>\n",
       "    </tr>\n",
       "    <tr>\n",
       "      <th>297</th>\n",
       "      <td>brio</td>\n",
       "      <td>2015</td>\n",
       "      <td>4.00</td>\n",
       "      <td>5.90</td>\n",
       "      <td>60000</td>\n",
       "      <td>Petrol</td>\n",
       "      <td>Dealer</td>\n",
       "      <td>Manual</td>\n",
       "      <td>0</td>\n",
       "    </tr>\n",
       "    <tr>\n",
       "      <th>298</th>\n",
       "      <td>city</td>\n",
       "      <td>2009</td>\n",
       "      <td>3.35</td>\n",
       "      <td>11.00</td>\n",
       "      <td>87934</td>\n",
       "      <td>Petrol</td>\n",
       "      <td>Dealer</td>\n",
       "      <td>Manual</td>\n",
       "      <td>0</td>\n",
       "    </tr>\n",
       "    <tr>\n",
       "      <th>299</th>\n",
       "      <td>city</td>\n",
       "      <td>2017</td>\n",
       "      <td>11.50</td>\n",
       "      <td>12.50</td>\n",
       "      <td>9000</td>\n",
       "      <td>Diesel</td>\n",
       "      <td>Dealer</td>\n",
       "      <td>Manual</td>\n",
       "      <td>0</td>\n",
       "    </tr>\n",
       "    <tr>\n",
       "      <th>300</th>\n",
       "      <td>brio</td>\n",
       "      <td>2016</td>\n",
       "      <td>5.30</td>\n",
       "      <td>5.90</td>\n",
       "      <td>5464</td>\n",
       "      <td>Petrol</td>\n",
       "      <td>Dealer</td>\n",
       "      <td>Manual</td>\n",
       "      <td>0</td>\n",
       "    </tr>\n",
       "  </tbody>\n",
       "</table>\n",
       "<p>301 rows × 9 columns</p>\n",
       "</div>"
      ],
      "text/plain": [
       "    Car_Name  Year  Selling_Price  Present_Price  Kms_Driven Fuel_Type  \\\n",
       "0       ritz  2014           3.35           5.59       27000    Petrol   \n",
       "1        sx4  2013           4.75           9.54       43000    Diesel   \n",
       "2       ciaz  2017           7.25           9.85        6900    Petrol   \n",
       "3    wagon r  2011           2.85           4.15        5200    Petrol   \n",
       "4      swift  2014           4.60           6.87       42450    Diesel   \n",
       "..       ...   ...            ...            ...         ...       ...   \n",
       "296     city  2016           9.50          11.60       33988    Diesel   \n",
       "297     brio  2015           4.00           5.90       60000    Petrol   \n",
       "298     city  2009           3.35          11.00       87934    Petrol   \n",
       "299     city  2017          11.50          12.50        9000    Diesel   \n",
       "300     brio  2016           5.30           5.90        5464    Petrol   \n",
       "\n",
       "    Seller_Type Transmission  Owner  \n",
       "0        Dealer       Manual      0  \n",
       "1        Dealer       Manual      0  \n",
       "2        Dealer       Manual      0  \n",
       "3        Dealer       Manual      0  \n",
       "4        Dealer       Manual      0  \n",
       "..          ...          ...    ...  \n",
       "296      Dealer       Manual      0  \n",
       "297      Dealer       Manual      0  \n",
       "298      Dealer       Manual      0  \n",
       "299      Dealer       Manual      0  \n",
       "300      Dealer       Manual      0  \n",
       "\n",
       "[301 rows x 9 columns]"
      ]
     },
     "execution_count": 26,
     "metadata": {},
     "output_type": "execute_result"
    }
   ],
   "source": [
    "data # lectura de datos en phyton y lop cargargamos en la variable data_carros"
   ]
  },
  {
   "cell_type": "code",
   "execution_count": 28,
   "id": "5cbd9327-c524-48d5-8222-f56b5a437b8c",
   "metadata": {},
   "outputs": [
    {
     "data": {
      "text/html": [
       "<div>\n",
       "<style scoped>\n",
       "    .dataframe tbody tr th:only-of-type {\n",
       "        vertical-align: middle;\n",
       "    }\n",
       "\n",
       "    .dataframe tbody tr th {\n",
       "        vertical-align: top;\n",
       "    }\n",
       "\n",
       "    .dataframe thead th {\n",
       "        text-align: right;\n",
       "    }\n",
       "</style>\n",
       "<table border=\"1\" class=\"dataframe\">\n",
       "  <thead>\n",
       "    <tr style=\"text-align: right;\">\n",
       "      <th></th>\n",
       "      <th>Car_Name</th>\n",
       "      <th>Year</th>\n",
       "      <th>Selling_Price</th>\n",
       "      <th>Present_Price</th>\n",
       "      <th>Kms_Driven</th>\n",
       "      <th>Fuel_Type</th>\n",
       "      <th>Seller_Type</th>\n",
       "      <th>Transmission</th>\n",
       "      <th>Owner</th>\n",
       "    </tr>\n",
       "  </thead>\n",
       "  <tbody>\n",
       "    <tr>\n",
       "      <th>0</th>\n",
       "      <td>ritz</td>\n",
       "      <td>2014</td>\n",
       "      <td>3.35</td>\n",
       "      <td>5.59</td>\n",
       "      <td>27000</td>\n",
       "      <td>Petrol</td>\n",
       "      <td>Dealer</td>\n",
       "      <td>Manual</td>\n",
       "      <td>0</td>\n",
       "    </tr>\n",
       "    <tr>\n",
       "      <th>1</th>\n",
       "      <td>sx4</td>\n",
       "      <td>2013</td>\n",
       "      <td>4.75</td>\n",
       "      <td>9.54</td>\n",
       "      <td>43000</td>\n",
       "      <td>Diesel</td>\n",
       "      <td>Dealer</td>\n",
       "      <td>Manual</td>\n",
       "      <td>0</td>\n",
       "    </tr>\n",
       "    <tr>\n",
       "      <th>2</th>\n",
       "      <td>ciaz</td>\n",
       "      <td>2017</td>\n",
       "      <td>7.25</td>\n",
       "      <td>9.85</td>\n",
       "      <td>6900</td>\n",
       "      <td>Petrol</td>\n",
       "      <td>Dealer</td>\n",
       "      <td>Manual</td>\n",
       "      <td>0</td>\n",
       "    </tr>\n",
       "    <tr>\n",
       "      <th>3</th>\n",
       "      <td>wagon r</td>\n",
       "      <td>2011</td>\n",
       "      <td>2.85</td>\n",
       "      <td>4.15</td>\n",
       "      <td>5200</td>\n",
       "      <td>Petrol</td>\n",
       "      <td>Dealer</td>\n",
       "      <td>Manual</td>\n",
       "      <td>0</td>\n",
       "    </tr>\n",
       "    <tr>\n",
       "      <th>4</th>\n",
       "      <td>swift</td>\n",
       "      <td>2014</td>\n",
       "      <td>4.60</td>\n",
       "      <td>6.87</td>\n",
       "      <td>42450</td>\n",
       "      <td>Diesel</td>\n",
       "      <td>Dealer</td>\n",
       "      <td>Manual</td>\n",
       "      <td>0</td>\n",
       "    </tr>\n",
       "  </tbody>\n",
       "</table>\n",
       "</div>"
      ],
      "text/plain": [
       "  Car_Name  Year  Selling_Price  Present_Price  Kms_Driven Fuel_Type  \\\n",
       "0     ritz  2014           3.35           5.59       27000    Petrol   \n",
       "1      sx4  2013           4.75           9.54       43000    Diesel   \n",
       "2     ciaz  2017           7.25           9.85        6900    Petrol   \n",
       "3  wagon r  2011           2.85           4.15        5200    Petrol   \n",
       "4    swift  2014           4.60           6.87       42450    Diesel   \n",
       "\n",
       "  Seller_Type Transmission  Owner  \n",
       "0      Dealer       Manual      0  \n",
       "1      Dealer       Manual      0  \n",
       "2      Dealer       Manual      0  \n",
       "3      Dealer       Manual      0  \n",
       "4      Dealer       Manual      0  "
      ]
     },
     "execution_count": 28,
     "metadata": {},
     "output_type": "execute_result"
    }
   ],
   "source": [
    "data.head() # muesta las 5 primeras filas de nuestro data  set"
   ]
  },
  {
   "cell_type": "code",
   "execution_count": 30,
   "id": "c322c2a2-adc9-4d0a-a4f9-66b395a23669",
   "metadata": {},
   "outputs": [
    {
     "data": {
      "text/html": [
       "<div>\n",
       "<style scoped>\n",
       "    .dataframe tbody tr th:only-of-type {\n",
       "        vertical-align: middle;\n",
       "    }\n",
       "\n",
       "    .dataframe tbody tr th {\n",
       "        vertical-align: top;\n",
       "    }\n",
       "\n",
       "    .dataframe thead th {\n",
       "        text-align: right;\n",
       "    }\n",
       "</style>\n",
       "<table border=\"1\" class=\"dataframe\">\n",
       "  <thead>\n",
       "    <tr style=\"text-align: right;\">\n",
       "      <th></th>\n",
       "      <th>Car_Name</th>\n",
       "      <th>Year</th>\n",
       "      <th>Selling_Price</th>\n",
       "      <th>Present_Price</th>\n",
       "      <th>Kms_Driven</th>\n",
       "      <th>Fuel_Type</th>\n",
       "      <th>Seller_Type</th>\n",
       "      <th>Transmission</th>\n",
       "      <th>Owner</th>\n",
       "    </tr>\n",
       "  </thead>\n",
       "  <tbody>\n",
       "    <tr>\n",
       "      <th>296</th>\n",
       "      <td>city</td>\n",
       "      <td>2016</td>\n",
       "      <td>9.50</td>\n",
       "      <td>11.6</td>\n",
       "      <td>33988</td>\n",
       "      <td>Diesel</td>\n",
       "      <td>Dealer</td>\n",
       "      <td>Manual</td>\n",
       "      <td>0</td>\n",
       "    </tr>\n",
       "    <tr>\n",
       "      <th>297</th>\n",
       "      <td>brio</td>\n",
       "      <td>2015</td>\n",
       "      <td>4.00</td>\n",
       "      <td>5.9</td>\n",
       "      <td>60000</td>\n",
       "      <td>Petrol</td>\n",
       "      <td>Dealer</td>\n",
       "      <td>Manual</td>\n",
       "      <td>0</td>\n",
       "    </tr>\n",
       "    <tr>\n",
       "      <th>298</th>\n",
       "      <td>city</td>\n",
       "      <td>2009</td>\n",
       "      <td>3.35</td>\n",
       "      <td>11.0</td>\n",
       "      <td>87934</td>\n",
       "      <td>Petrol</td>\n",
       "      <td>Dealer</td>\n",
       "      <td>Manual</td>\n",
       "      <td>0</td>\n",
       "    </tr>\n",
       "    <tr>\n",
       "      <th>299</th>\n",
       "      <td>city</td>\n",
       "      <td>2017</td>\n",
       "      <td>11.50</td>\n",
       "      <td>12.5</td>\n",
       "      <td>9000</td>\n",
       "      <td>Diesel</td>\n",
       "      <td>Dealer</td>\n",
       "      <td>Manual</td>\n",
       "      <td>0</td>\n",
       "    </tr>\n",
       "    <tr>\n",
       "      <th>300</th>\n",
       "      <td>brio</td>\n",
       "      <td>2016</td>\n",
       "      <td>5.30</td>\n",
       "      <td>5.9</td>\n",
       "      <td>5464</td>\n",
       "      <td>Petrol</td>\n",
       "      <td>Dealer</td>\n",
       "      <td>Manual</td>\n",
       "      <td>0</td>\n",
       "    </tr>\n",
       "  </tbody>\n",
       "</table>\n",
       "</div>"
      ],
      "text/plain": [
       "    Car_Name  Year  Selling_Price  Present_Price  Kms_Driven Fuel_Type  \\\n",
       "296     city  2016           9.50           11.6       33988    Diesel   \n",
       "297     brio  2015           4.00            5.9       60000    Petrol   \n",
       "298     city  2009           3.35           11.0       87934    Petrol   \n",
       "299     city  2017          11.50           12.5        9000    Diesel   \n",
       "300     brio  2016           5.30            5.9        5464    Petrol   \n",
       "\n",
       "    Seller_Type Transmission  Owner  \n",
       "296      Dealer       Manual      0  \n",
       "297      Dealer       Manual      0  \n",
       "298      Dealer       Manual      0  \n",
       "299      Dealer       Manual      0  \n",
       "300      Dealer       Manual      0  "
      ]
     },
     "execution_count": 30,
     "metadata": {},
     "output_type": "execute_result"
    }
   ],
   "source": [
    "data.tail() # muesta las 5 últimas  filas de nuestro data  set"
   ]
  },
  {
   "cell_type": "code",
   "execution_count": 24,
   "id": "d7aa564a-3521-4dde-a2a7-f79f39c9c36d",
   "metadata": {},
   "outputs": [
    {
     "data": {
      "text/plain": [
       "Text(0.5, 1.0, 'Identificacion de datos faltantes y Atipicos')"
      ]
     },
     "execution_count": 24,
     "metadata": {},
     "output_type": "execute_result"
    },
    {
     "data": {
      "image/png": "[encoded data removed]",
      "text/plain": [
       "<Figure size 300x600 with 1 Axes>"
      ]
     },
     "metadata": {},
     "output_type": "display_data"
    }
   ],
   "source": [
    "plt.figure(figsize=(3, 6))\n",
    "sns.boxplot(x=data['Year'])\n",
    "plt.title('Identificacion de datos faltantes y Atipicos', fontsize=10)"
   ]
  },
  {
   "cell_type": "code",
   "execution_count": 26,
   "id": "a11c53bb-47aa-4e1d-9816-0cde3387fa93",
   "metadata": {},
   "outputs": [
    {
     "data": {
      "text/plain": [
       "Text(0.5, 1.0, 'Identificacion de datos faltantes y Atipicos')"
      ]
     },
     "execution_count": 26,
     "metadata": {},
     "output_type": "execute_result"
    },
    {
     "data": {
      "image/png": "[encoded data removed]",
      "text/plain": [
       "<Figure size 300x600 with 1 Axes>"
      ]
     },
     "metadata": {},
     "output_type": "display_data"
    }
   ],
   "source": [
    "plt.figure(figsize=(3, 6))\n",
    "sns.boxplot(x=data['Present_Price'])\n",
    "plt.title('Identificacion de datos faltantes y Atipicos', fontsize=10)"
   ]
  },
  {
   "cell_type": "code",
   "execution_count": 30,
   "id": "b7751112-990b-416c-a3f6-318aa35691f5",
   "metadata": {},
   "outputs": [
    {
     "data": {
      "text/plain": [
       "Text(0.5, 1.0, 'Identificación de datos faltantes y Atipicos')"
      ]
     },
     "execution_count": 30,
     "metadata": {},
     "output_type": "execute_result"
    },
    {
     "data": {
      "image/png": "[encoded data removed]",
      "text/plain": [
       "<Figure size 300x600 with 1 Axes>"
      ]
     },
     "metadata": {},
     "output_type": "display_data"
    }
   ],
   "source": [
    "plt.figure(figsize=(3, 6))\n",
    "sns.boxplot(x=data['Selling_Price'])\n",
    "plt.title('Identificación de datos faltantes y Atipicos', fontsize=10)"
   ]
  },
  {
   "cell_type": "code",
   "execution_count": 34,
   "id": "3be3a63a-11ea-47f9-b4eb-b0f010ca7d6b",
   "metadata": {},
   "outputs": [
    {
     "data": {
      "text/plain": [
       "Text(0.5, 1.0, 'Identificación de datos faltantes y Atipicos')"
      ]
     },
     "execution_count": 34,
     "metadata": {},
     "output_type": "execute_result"
    },
    {
     "data": {
      "image/png": "[encoded data removed]",
      "text/plain": [
       "<Figure size 300x600 with 1 Axes>"
      ]
     },
     "metadata": {},
     "output_type": "display_data"
    }
   ],
   "source": [
    "plt.figure(figsize=(3, 6))\n",
    "sns.boxplot(x=data['Kms_Driven'])\n",
    "plt.title('Identificación de datos faltantes y Atipicos', fontsize=10)"
   ]
  },
  {
   "cell_type": "code",
   "execution_count": 36,
   "id": "caf6d219-897b-4371-9cb0-b49561b21148",
   "metadata": {},
   "outputs": [
    {
     "data": {
      "text/plain": [
       "Text(0.5, 1.0, 'Identificación de datos faltantes y Atipicos')"
      ]
     },
     "execution_count": 36,
     "metadata": {},
     "output_type": "execute_result"
    },
    {
     "data": {
      "image/png": "[encoded data removed]",
      "text/plain": [
       "<Figure size 300x600 with 1 Axes>"
      ]
     },
     "metadata": {},
     "output_type": "display_data"
    }
   ],
   "source": [
    "plt.figure(figsize=(3, 6))\n",
    "sns.boxplot(x=data['Seller_Type'])\n",
    "plt.title('Identificación de datos faltantes y Atipicos', fontsize=10)"
   ]
  },
  {
   "cell_type": "code",
   "execution_count": 44,
   "id": "3e269570-4079-4c80-8a17-36a0815f54db",
   "metadata": {},
   "outputs": [
    {
     "data": {
      "text/plain": [
       "[35.0,\n",
       " 33.0,\n",
       " 23.5,\n",
       " 23.0,\n",
       " 23.0,\n",
       " 23.0,\n",
       " 20.75,\n",
       " 19.99,\n",
       " 19.75,\n",
       " 18.75,\n",
       " 18.0,\n",
       " 17.0,\n",
       " 16.0,\n",
       " 14.9,\n",
       " 14.73,\n",
       " 14.5,\n",
       " 14.25,\n",
       " 12.9,\n",
       " 12.5,\n",
       " 11.75,\n",
       " 11.5,\n",
       " 11.45,\n",
       " 11.25,\n",
       " 11.25,\n",
       " 11.25,\n",
       " 10.9,\n",
       " 10.25,\n",
       " 10.11,\n",
       " 9.7,\n",
       " 9.65,\n",
       " 9.5,\n",
       " 9.25,\n",
       " 9.25,\n",
       " 9.25,\n",
       " 9.15,\n",
       " 9.1,\n",
       " 8.99,\n",
       " 8.75,\n",
       " 8.65,\n",
       " 8.55,\n",
       " 8.5,\n",
       " 8.4,\n",
       " 8.4,\n",
       " 8.35,\n",
       " 8.25,\n",
       " 8.25,\n",
       " 7.9,\n",
       " 7.75,\n",
       " 7.75,\n",
       " 7.75,\n",
       " 7.5,\n",
       " 7.5,\n",
       " 7.5,\n",
       " 7.45,\n",
       " 7.45,\n",
       " 7.45,\n",
       " 7.4,\n",
       " 7.25,\n",
       " 7.25,\n",
       " 7.2,\n",
       " 7.05,\n",
       " 6.95,\n",
       " 6.85,\n",
       " 6.75,\n",
       " 6.7,\n",
       " 6.6,\n",
       " 6.5,\n",
       " 6.5,\n",
       " 6.45,\n",
       " 6.4,\n",
       " 6.25,\n",
       " 6.25,\n",
       " 6.15,\n",
       " 6.1,\n",
       " 6.0,\n",
       " 6.0,\n",
       " 6.0,\n",
       " 6.0,\n",
       " 5.95,\n",
       " 5.95,\n",
       " 5.9,\n",
       " 5.85,\n",
       " 5.85,\n",
       " 5.8,\n",
       " 5.75,\n",
       " 5.75,\n",
       " 5.65,\n",
       " 5.5,\n",
       " 5.5,\n",
       " 5.5,\n",
       " 5.5,\n",
       " 5.5,\n",
       " 5.4,\n",
       " 5.4,\n",
       " 5.35,\n",
       " 5.3,\n",
       " 5.3,\n",
       " 5.25,\n",
       " 5.25,\n",
       " 5.25,\n",
       " 5.25,\n",
       " 5.25,\n",
       " 5.25,\n",
       " 5.25,\n",
       " 5.2,\n",
       " 5.15,\n",
       " 5.11,\n",
       " 5.0,\n",
       " 4.95,\n",
       " 4.95,\n",
       " 4.9,\n",
       " 4.9,\n",
       " 4.85,\n",
       " 4.8,\n",
       " 4.8,\n",
       " 4.75,\n",
       " 4.75,\n",
       " 4.75,\n",
       " 4.75,\n",
       " 4.75,\n",
       " 4.75,\n",
       " 4.65,\n",
       " 4.6,\n",
       " 4.5,\n",
       " 4.5,\n",
       " 4.5,\n",
       " 4.5,\n",
       " 4.5,\n",
       " 4.5,\n",
       " 4.5,\n",
       " 4.4,\n",
       " 4.4,\n",
       " 4.4,\n",
       " 4.35,\n",
       " 4.15,\n",
       " 4.1,\n",
       " 4.1,\n",
       " 4.0,\n",
       " 4.0,\n",
       " 4.0,\n",
       " 4.0,\n",
       " 4.0,\n",
       " 3.95,\n",
       " 3.95,\n",
       " 3.9,\n",
       " 3.9,\n",
       " 3.8,\n",
       " 3.75,\n",
       " 3.75,\n",
       " 3.65,\n",
       " 3.6,\n",
       " 3.51,\n",
       " 3.5,\n",
       " 3.5,\n",
       " 3.49,\n",
       " 3.45,\n",
       " 3.35,\n",
       " 3.35,\n",
       " 3.25,\n",
       " 3.25,\n",
       " 3.25,\n",
       " 3.15,\n",
       " 3.1,\n",
       " 3.1,\n",
       " 3.1,\n",
       " 3.1,\n",
       " 3.0,\n",
       " 3.0,\n",
       " 3.0,\n",
       " 3.0,\n",
       " 2.95,\n",
       " 2.95,\n",
       " 2.9,\n",
       " 2.9,\n",
       " 2.9,\n",
       " 2.85,\n",
       " 2.85,\n",
       " 2.85,\n",
       " 2.75,\n",
       " 2.75,\n",
       " 2.7,\n",
       " 2.65,\n",
       " 2.65,\n",
       " 2.65,\n",
       " 2.55,\n",
       " 2.55,\n",
       " 2.5,\n",
       " 2.5,\n",
       " 2.35,\n",
       " 2.25,\n",
       " 2.25,\n",
       " 2.25,\n",
       " 2.1,\n",
       " 2.0,\n",
       " 1.95,\n",
       " 1.95,\n",
       " 1.75,\n",
       " 1.7,\n",
       " 1.65,\n",
       " 1.5,\n",
       " 1.45,\n",
       " 1.35,\n",
       " 1.35,\n",
       " 1.35,\n",
       " 1.25,\n",
       " 1.25,\n",
       " 1.2,\n",
       " 1.2,\n",
       " 1.2,\n",
       " 1.15,\n",
       " 1.15,\n",
       " 1.15,\n",
       " 1.15,\n",
       " 1.11,\n",
       " 1.1,\n",
       " 1.1,\n",
       " 1.1,\n",
       " 1.05,\n",
       " 1.05,\n",
       " 1.05,\n",
       " 1.05,\n",
       " 1.05,\n",
       " 1.0,\n",
       " 0.95,\n",
       " 0.9,\n",
       " 0.9,\n",
       " 0.8,\n",
       " 0.78,\n",
       " 0.75,\n",
       " 0.75,\n",
       " 0.75,\n",
       " 0.75,\n",
       " 0.72,\n",
       " 0.65,\n",
       " 0.65,\n",
       " 0.65,\n",
       " 0.65,\n",
       " 0.6,\n",
       " 0.6,\n",
       " 0.6,\n",
       " 0.6,\n",
       " 0.6,\n",
       " 0.6,\n",
       " 0.6,\n",
       " 0.6,\n",
       " 0.55,\n",
       " 0.55,\n",
       " 0.52,\n",
       " 0.51,\n",
       " 0.5,\n",
       " 0.5,\n",
       " 0.5,\n",
       " 0.5,\n",
       " 0.5,\n",
       " 0.48,\n",
       " 0.48,\n",
       " 0.48,\n",
       " 0.48,\n",
       " 0.45,\n",
       " 0.45,\n",
       " 0.45,\n",
       " 0.45,\n",
       " 0.45,\n",
       " 0.45,\n",
       " 0.45,\n",
       " 0.45,\n",
       " 0.42,\n",
       " 0.42,\n",
       " 0.4,\n",
       " 0.4,\n",
       " 0.4,\n",
       " 0.4,\n",
       " 0.4,\n",
       " 0.38,\n",
       " 0.38,\n",
       " 0.35,\n",
       " 0.35,\n",
       " 0.35,\n",
       " 0.35,\n",
       " 0.31,\n",
       " 0.3,\n",
       " 0.3,\n",
       " 0.3,\n",
       " 0.27,\n",
       " 0.25,\n",
       " 0.25,\n",
       " 0.25,\n",
       " 0.25,\n",
       " 0.25,\n",
       " 0.2,\n",
       " 0.2,\n",
       " 0.2,\n",
       " 0.2,\n",
       " 0.2,\n",
       " 0.2,\n",
       " 0.18,\n",
       " 0.17,\n",
       " 0.16,\n",
       " 0.15,\n",
       " 0.12,\n",
       " 0.1]"
      ]
     },
     "execution_count": 44,
     "metadata": {},
     "output_type": "execute_result"
    }
   ],
   "source": [
    "sorted(data['Selling_Price'],reverse=True)"
   ]
  },
  {
   "cell_type": "code",
   "execution_count": 50,
   "id": "7663cf94-18f3-408b-adc1-adf2ae431f94",
   "metadata": {},
   "outputs": [],
   "source": [
    "data = data[~(data['Selling_Price']>=33.0) & (data['Selling_Price']<=35.0)]"
   ]
  },
  {
   "cell_type": "code",
   "execution_count": null,
   "id": "862f001e-594d-44be-b655-21b65eb2e11b",
   "metadata": {},
   "outputs": [],
   "source": [
    "# PASO 2, Procesar los datos limpiandolos, tratando valores faltantes y transformandolos segun sea necesario."
   ]
  },
  {
   "cell_type": "code",
   "execution_count": 54,
   "id": "2a9a4b09-0035-4105-8c7b-1fedcadfc607",
   "metadata": {},
   "outputs": [
    {
     "data": {
      "text/plain": [
       "Index(['Car_Name', 'Year', 'Selling_Price', 'Present_Price', 'Kms_Driven',\n",
       "       'Fuel_Type', 'Seller_Type', 'Transmission', 'Owner'],\n",
       "      dtype='object')"
      ]
     },
     "execution_count": 54,
     "metadata": {},
     "output_type": "execute_result"
    }
   ],
   "source": [
    "\n",
    "data.columns"
   ]
  },
  {
   "cell_type": "code",
   "execution_count": 66,
   "id": "f6fa9966-fa48-4f4f-b65c-2628dbe19509",
   "metadata": {},
   "outputs": [
    {
     "name": "stdout",
     "output_type": "stream",
     "text": [
      "Cantidad de registros con cero en Car_Name:  0\n",
      "Cantidad de registros con cero en Year:  0\n",
      "Cantidad de registros con cero en Selling_Price:  0\n",
      "Cantidad de registros con cero en Present_Price:  0\n",
      "Cantidad de registros con cero en Fuel_Type:  0\n",
      "Cantidad de registros con cero en Seller_Type:  0\n",
      "Cantidad de registros con cero en Transmission:  0\n",
      "Cantidad de registros con cero en Owner:  288\n"
     ]
    }
   ],
   "source": [
    "# revision de datos faltantantes \n",
    "\n",
    "print(\"Cantidad de registros con cero en Car_Name: \", data['Car_Name'].isin([0]).sum())\n",
    "print(\"Cantidad de registros con cero en Year: \", data['Year'].isin([0]).sum())\n",
    "print(\"Cantidad de registros con cero en Selling_Price: \", data['Selling_Price'].isin([0]).sum())\n",
    "print(\"Cantidad de registros con cero en Present_Price: \", data['Present_Price'].isin([0]).sum())\n",
    "print(\"Cantidad de registros con cero en Fuel_Type: \", data['Fuel_Type'].isin([0]).sum())\n",
    "print(\"Cantidad de registros con cero en Seller_Type: \", data['Seller_Type'].isin([0]).sum())\n",
    "print(\"Cantidad de registros con cero en Transmission: \", data['Transmission'].isin([0]).sum())\n",
    "print(\"Cantidad de registros con cero en Owner: \", data['Owner'].isin([0]).sum())"
   ]
  },
  {
   "cell_type": "code",
   "execution_count": 38,
   "id": "3e530a16-a265-46bf-9177-36642ceec353",
   "metadata": {},
   "outputs": [
    {
     "data": {
      "text/plain": [
       "(301, 9)"
      ]
     },
     "execution_count": 38,
     "metadata": {},
     "output_type": "execute_result"
    }
   ],
   "source": [
    "data.shape # Conocer el número de filas y columnas de nuestro data set"
   ]
  },
  {
   "cell_type": "code",
   "execution_count": 40,
   "id": "988d4c90-3cfd-44c4-97a7-022a15443ed8",
   "metadata": {},
   "outputs": [
    {
     "name": "stdout",
     "output_type": "stream",
     "text": [
      "Number of Rows 301\n",
      "Number of Columns 9\n"
     ]
    }
   ],
   "source": [
    "print(\"Number of Rows\",data.shape[0])\n",
    "print(\"Number of Columns\",data.shape[1])\n"
   ]
  },
  {
   "cell_type": "code",
   "execution_count": 52,
   "id": "6cab5bf0-d560-47b1-a68e-9214b507cc99",
   "metadata": {},
   "outputs": [
    {
     "name": "stdout",
     "output_type": "stream",
     "text": [
      "<class 'pandas.core.frame.DataFrame'>\n",
      "Index: 299 entries, 0 to 300\n",
      "Data columns (total 9 columns):\n",
      " #   Column         Non-Null Count  Dtype  \n",
      "---  ------         --------------  -----  \n",
      " 0   Car_Name       299 non-null    object \n",
      " 1   Year           299 non-null    int64  \n",
      " 2   Selling_Price  299 non-null    float64\n",
      " 3   Present_Price  299 non-null    float64\n",
      " 4   Kms_Driven     299 non-null    int64  \n",
      " 5   Fuel_Type      299 non-null    object \n",
      " 6   Seller_Type    299 non-null    object \n",
      " 7   Transmission   299 non-null    object \n",
      " 8   Owner          299 non-null    int64  \n",
      "dtypes: float64(2), int64(3), object(4)\n",
      "memory usage: 23.4+ KB\n"
     ]
    }
   ],
   "source": [
    "data.info() # obtener informacion acerca de la dataset como el total de filas, el total de columnas y el tipo de datos de cada columna y la memoria requerida"
   ]
  },
  {
   "cell_type": "code",
   "execution_count": null,
   "id": "4fa49a5a-a46e-4eeb-8496-9585044ce520",
   "metadata": {},
   "outputs": [],
   "source": [
    "# PASO 3 Seleccionar caracteristicas más relevantes para entrenar el modelo utilizando la selección de caractéres"
   ]
  },
  {
   "cell_type": "code",
   "execution_count": null,
   "id": "76e788f8-98ff-4593-9125-c50616667b71",
   "metadata": {},
   "outputs": [],
   "source": [
    "# Revisar los valores nullos de la Base de Datos"
   ]
  },
  {
   "cell_type": "code",
   "execution_count": 68,
   "id": "f1552177-085a-45fb-b612-667074c65401",
   "metadata": {},
   "outputs": [
    {
     "data": {
      "text/plain": [
       "Car_Name         0\n",
       "Year             0\n",
       "Selling_Price    0\n",
       "Present_Price    0\n",
       "Kms_Driven       0\n",
       "Fuel_Type        0\n",
       "Seller_Type      0\n",
       "Transmission     0\n",
       "Owner            0\n",
       "dtype: int64"
      ]
     },
     "execution_count": 68,
     "metadata": {},
     "output_type": "execute_result"
    }
   ],
   "source": [
    "data.isnull().sum()"
   ]
  },
  {
   "cell_type": "code",
   "execution_count": 70,
   "id": "b629c3ac-a3eb-4765-89c3-b27bacf1ab89",
   "metadata": {},
   "outputs": [
    {
     "data": {
      "text/html": [
       "<div>\n",
       "<style scoped>\n",
       "    .dataframe tbody tr th:only-of-type {\n",
       "        vertical-align: middle;\n",
       "    }\n",
       "\n",
       "    .dataframe tbody tr th {\n",
       "        vertical-align: top;\n",
       "    }\n",
       "\n",
       "    .dataframe thead th {\n",
       "        text-align: right;\n",
       "    }\n",
       "</style>\n",
       "<table border=\"1\" class=\"dataframe\">\n",
       "  <thead>\n",
       "    <tr style=\"text-align: right;\">\n",
       "      <th></th>\n",
       "      <th>Car_Name</th>\n",
       "      <th>Year</th>\n",
       "      <th>Selling_Price</th>\n",
       "      <th>Present_Price</th>\n",
       "      <th>Kms_Driven</th>\n",
       "      <th>Fuel_Type</th>\n",
       "      <th>Seller_Type</th>\n",
       "      <th>Transmission</th>\n",
       "      <th>Owner</th>\n",
       "    </tr>\n",
       "  </thead>\n",
       "  <tbody>\n",
       "    <tr>\n",
       "      <th>0</th>\n",
       "      <td>ritz</td>\n",
       "      <td>2014</td>\n",
       "      <td>3.35</td>\n",
       "      <td>5.59</td>\n",
       "      <td>27000</td>\n",
       "      <td>Petrol</td>\n",
       "      <td>Dealer</td>\n",
       "      <td>Manual</td>\n",
       "      <td>0</td>\n",
       "    </tr>\n",
       "  </tbody>\n",
       "</table>\n",
       "</div>"
      ],
      "text/plain": [
       "  Car_Name  Year  Selling_Price  Present_Price  Kms_Driven Fuel_Type  \\\n",
       "0     ritz  2014           3.35           5.59       27000    Petrol   \n",
       "\n",
       "  Seller_Type Transmission  Owner  \n",
       "0      Dealer       Manual      0  "
      ]
     },
     "execution_count": 70,
     "metadata": {},
     "output_type": "execute_result"
    }
   ],
   "source": [
    "data.head(1)"
   ]
  },
  {
   "cell_type": "code",
   "execution_count": null,
   "id": "0e507c99-fcdf-43f8-ac6f-c6468a05221c",
   "metadata": {},
   "outputs": [],
   "source": [
    "#Obtenemos estadísticas generales sobre el conjunto de datos"
   ]
  },
  {
   "cell_type": "code",
   "execution_count": 44,
   "id": "e193684a-87d8-41b9-9143-648a6dc72676",
   "metadata": {},
   "outputs": [
    {
     "data": {
      "text/html": [
       "<div>\n",
       "<style scoped>\n",
       "    .dataframe tbody tr th:only-of-type {\n",
       "        vertical-align: middle;\n",
       "    }\n",
       "\n",
       "    .dataframe tbody tr th {\n",
       "        vertical-align: top;\n",
       "    }\n",
       "\n",
       "    .dataframe thead th {\n",
       "        text-align: right;\n",
       "    }\n",
       "</style>\n",
       "<table border=\"1\" class=\"dataframe\">\n",
       "  <thead>\n",
       "    <tr style=\"text-align: right;\">\n",
       "      <th></th>\n",
       "      <th>Year</th>\n",
       "      <th>Selling_Price</th>\n",
       "      <th>Present_Price</th>\n",
       "      <th>Kms_Driven</th>\n",
       "      <th>Owner</th>\n",
       "    </tr>\n",
       "  </thead>\n",
       "  <tbody>\n",
       "    <tr>\n",
       "      <th>count</th>\n",
       "      <td>301.000000</td>\n",
       "      <td>301.000000</td>\n",
       "      <td>301.000000</td>\n",
       "      <td>301.000000</td>\n",
       "      <td>301.000000</td>\n",
       "    </tr>\n",
       "    <tr>\n",
       "      <th>mean</th>\n",
       "      <td>2013.627907</td>\n",
       "      <td>4.661296</td>\n",
       "      <td>7.628472</td>\n",
       "      <td>36947.205980</td>\n",
       "      <td>0.043189</td>\n",
       "    </tr>\n",
       "    <tr>\n",
       "      <th>std</th>\n",
       "      <td>2.891554</td>\n",
       "      <td>5.082812</td>\n",
       "      <td>8.644115</td>\n",
       "      <td>38886.883882</td>\n",
       "      <td>0.247915</td>\n",
       "    </tr>\n",
       "    <tr>\n",
       "      <th>min</th>\n",
       "      <td>2003.000000</td>\n",
       "      <td>0.100000</td>\n",
       "      <td>0.320000</td>\n",
       "      <td>500.000000</td>\n",
       "      <td>0.000000</td>\n",
       "    </tr>\n",
       "    <tr>\n",
       "      <th>25%</th>\n",
       "      <td>2012.000000</td>\n",
       "      <td>0.900000</td>\n",
       "      <td>1.200000</td>\n",
       "      <td>15000.000000</td>\n",
       "      <td>0.000000</td>\n",
       "    </tr>\n",
       "    <tr>\n",
       "      <th>50%</th>\n",
       "      <td>2014.000000</td>\n",
       "      <td>3.600000</td>\n",
       "      <td>6.400000</td>\n",
       "      <td>32000.000000</td>\n",
       "      <td>0.000000</td>\n",
       "    </tr>\n",
       "    <tr>\n",
       "      <th>75%</th>\n",
       "      <td>2016.000000</td>\n",
       "      <td>6.000000</td>\n",
       "      <td>9.900000</td>\n",
       "      <td>48767.000000</td>\n",
       "      <td>0.000000</td>\n",
       "    </tr>\n",
       "    <tr>\n",
       "      <th>max</th>\n",
       "      <td>2018.000000</td>\n",
       "      <td>35.000000</td>\n",
       "      <td>92.600000</td>\n",
       "      <td>500000.000000</td>\n",
       "      <td>3.000000</td>\n",
       "    </tr>\n",
       "  </tbody>\n",
       "</table>\n",
       "</div>"
      ],
      "text/plain": [
       "              Year  Selling_Price  Present_Price     Kms_Driven       Owner\n",
       "count   301.000000     301.000000     301.000000     301.000000  301.000000\n",
       "mean   2013.627907       4.661296       7.628472   36947.205980    0.043189\n",
       "std       2.891554       5.082812       8.644115   38886.883882    0.247915\n",
       "min    2003.000000       0.100000       0.320000     500.000000    0.000000\n",
       "25%    2012.000000       0.900000       1.200000   15000.000000    0.000000\n",
       "50%    2014.000000       3.600000       6.400000   32000.000000    0.000000\n",
       "75%    2016.000000       6.000000       9.900000   48767.000000    0.000000\n",
       "max    2018.000000      35.000000      92.600000  500000.000000    3.000000"
      ]
     },
     "execution_count": 44,
     "metadata": {},
     "output_type": "execute_result"
    }
   ],
   "source": [
    "data.describe()"
   ]
  },
  {
   "cell_type": "code",
   "execution_count": null,
   "id": "5189f42a-981b-49a0-8676-6ade7f2243a2",
   "metadata": {},
   "outputs": [],
   "source": [
    "# procesamos la información"
   ]
  },
  {
   "cell_type": "code",
   "execution_count": 48,
   "id": "3923534b-e32f-44f5-8afa-4f35fa49a61e",
   "metadata": {},
   "outputs": [],
   "source": [
    "import datetime"
   ]
  },
  {
   "cell_type": "code",
   "execution_count": 50,
   "id": "f563b735-c1e2-4441-b692-eb525f26d361",
   "metadata": {},
   "outputs": [],
   "source": [
    "date_time = datetime.datetime.now()"
   ]
  },
  {
   "cell_type": "code",
   "execution_count": 52,
   "id": "89c90199-5026-42c9-ab8f-83ecca045f9b",
   "metadata": {},
   "outputs": [
    {
     "data": {
      "text/html": [
       "<div>\n",
       "<style scoped>\n",
       "    .dataframe tbody tr th:only-of-type {\n",
       "        vertical-align: middle;\n",
       "    }\n",
       "\n",
       "    .dataframe tbody tr th {\n",
       "        vertical-align: top;\n",
       "    }\n",
       "\n",
       "    .dataframe thead th {\n",
       "        text-align: right;\n",
       "    }\n",
       "</style>\n",
       "<table border=\"1\" class=\"dataframe\">\n",
       "  <thead>\n",
       "    <tr style=\"text-align: right;\">\n",
       "      <th></th>\n",
       "      <th>Car_Name</th>\n",
       "      <th>Year</th>\n",
       "      <th>Selling_Price</th>\n",
       "      <th>Present_Price</th>\n",
       "      <th>Kms_Driven</th>\n",
       "      <th>Fuel_Type</th>\n",
       "      <th>Seller_Type</th>\n",
       "      <th>Transmission</th>\n",
       "      <th>Owner</th>\n",
       "    </tr>\n",
       "  </thead>\n",
       "  <tbody>\n",
       "    <tr>\n",
       "      <th>0</th>\n",
       "      <td>ritz</td>\n",
       "      <td>2014</td>\n",
       "      <td>3.35</td>\n",
       "      <td>5.59</td>\n",
       "      <td>27000</td>\n",
       "      <td>Petrol</td>\n",
       "      <td>Dealer</td>\n",
       "      <td>Manual</td>\n",
       "      <td>0</td>\n",
       "    </tr>\n",
       "    <tr>\n",
       "      <th>1</th>\n",
       "      <td>sx4</td>\n",
       "      <td>2013</td>\n",
       "      <td>4.75</td>\n",
       "      <td>9.54</td>\n",
       "      <td>43000</td>\n",
       "      <td>Diesel</td>\n",
       "      <td>Dealer</td>\n",
       "      <td>Manual</td>\n",
       "      <td>0</td>\n",
       "    </tr>\n",
       "    <tr>\n",
       "      <th>2</th>\n",
       "      <td>ciaz</td>\n",
       "      <td>2017</td>\n",
       "      <td>7.25</td>\n",
       "      <td>9.85</td>\n",
       "      <td>6900</td>\n",
       "      <td>Petrol</td>\n",
       "      <td>Dealer</td>\n",
       "      <td>Manual</td>\n",
       "      <td>0</td>\n",
       "    </tr>\n",
       "    <tr>\n",
       "      <th>3</th>\n",
       "      <td>wagon r</td>\n",
       "      <td>2011</td>\n",
       "      <td>2.85</td>\n",
       "      <td>4.15</td>\n",
       "      <td>5200</td>\n",
       "      <td>Petrol</td>\n",
       "      <td>Dealer</td>\n",
       "      <td>Manual</td>\n",
       "      <td>0</td>\n",
       "    </tr>\n",
       "    <tr>\n",
       "      <th>4</th>\n",
       "      <td>swift</td>\n",
       "      <td>2014</td>\n",
       "      <td>4.60</td>\n",
       "      <td>6.87</td>\n",
       "      <td>42450</td>\n",
       "      <td>Diesel</td>\n",
       "      <td>Dealer</td>\n",
       "      <td>Manual</td>\n",
       "      <td>0</td>\n",
       "    </tr>\n",
       "  </tbody>\n",
       "</table>\n",
       "</div>"
      ],
      "text/plain": [
       "  Car_Name  Year  Selling_Price  Present_Price  Kms_Driven Fuel_Type  \\\n",
       "0     ritz  2014           3.35           5.59       27000    Petrol   \n",
       "1      sx4  2013           4.75           9.54       43000    Diesel   \n",
       "2     ciaz  2017           7.25           9.85        6900    Petrol   \n",
       "3  wagon r  2011           2.85           4.15        5200    Petrol   \n",
       "4    swift  2014           4.60           6.87       42450    Diesel   \n",
       "\n",
       "  Seller_Type Transmission  Owner  \n",
       "0      Dealer       Manual      0  \n",
       "1      Dealer       Manual      0  \n",
       "2      Dealer       Manual      0  \n",
       "3      Dealer       Manual      0  \n",
       "4      Dealer       Manual      0  "
      ]
     },
     "execution_count": 52,
     "metadata": {},
     "output_type": "execute_result"
    }
   ],
   "source": [
    "data.head()"
   ]
  },
  {
   "cell_type": "code",
   "execution_count": 54,
   "id": "4ddcb443-d658-4a7e-976c-5e52be450403",
   "metadata": {},
   "outputs": [
    {
     "data": {
      "text/html": [
       "<div>\n",
       "<style scoped>\n",
       "    .dataframe tbody tr th:only-of-type {\n",
       "        vertical-align: middle;\n",
       "    }\n",
       "\n",
       "    .dataframe tbody tr th {\n",
       "        vertical-align: top;\n",
       "    }\n",
       "\n",
       "    .dataframe thead th {\n",
       "        text-align: right;\n",
       "    }\n",
       "</style>\n",
       "<table border=\"1\" class=\"dataframe\">\n",
       "  <thead>\n",
       "    <tr style=\"text-align: right;\">\n",
       "      <th></th>\n",
       "      <th>Car_Name</th>\n",
       "      <th>Year</th>\n",
       "      <th>Selling_Price</th>\n",
       "      <th>Present_Price</th>\n",
       "      <th>Kms_Driven</th>\n",
       "      <th>Fuel_Type</th>\n",
       "      <th>Seller_Type</th>\n",
       "      <th>Transmission</th>\n",
       "      <th>Owner</th>\n",
       "    </tr>\n",
       "  </thead>\n",
       "  <tbody>\n",
       "    <tr>\n",
       "      <th>0</th>\n",
       "      <td>ritz</td>\n",
       "      <td>2014</td>\n",
       "      <td>3.35</td>\n",
       "      <td>5.59</td>\n",
       "      <td>27000</td>\n",
       "      <td>Petrol</td>\n",
       "      <td>Dealer</td>\n",
       "      <td>Manual</td>\n",
       "      <td>0</td>\n",
       "    </tr>\n",
       "    <tr>\n",
       "      <th>1</th>\n",
       "      <td>sx4</td>\n",
       "      <td>2013</td>\n",
       "      <td>4.75</td>\n",
       "      <td>9.54</td>\n",
       "      <td>43000</td>\n",
       "      <td>Diesel</td>\n",
       "      <td>Dealer</td>\n",
       "      <td>Manual</td>\n",
       "      <td>0</td>\n",
       "    </tr>\n",
       "    <tr>\n",
       "      <th>2</th>\n",
       "      <td>ciaz</td>\n",
       "      <td>2017</td>\n",
       "      <td>7.25</td>\n",
       "      <td>9.85</td>\n",
       "      <td>6900</td>\n",
       "      <td>Petrol</td>\n",
       "      <td>Dealer</td>\n",
       "      <td>Manual</td>\n",
       "      <td>0</td>\n",
       "    </tr>\n",
       "    <tr>\n",
       "      <th>3</th>\n",
       "      <td>wagon r</td>\n",
       "      <td>2011</td>\n",
       "      <td>2.85</td>\n",
       "      <td>4.15</td>\n",
       "      <td>5200</td>\n",
       "      <td>Petrol</td>\n",
       "      <td>Dealer</td>\n",
       "      <td>Manual</td>\n",
       "      <td>0</td>\n",
       "    </tr>\n",
       "    <tr>\n",
       "      <th>4</th>\n",
       "      <td>swift</td>\n",
       "      <td>2014</td>\n",
       "      <td>4.60</td>\n",
       "      <td>6.87</td>\n",
       "      <td>42450</td>\n",
       "      <td>Diesel</td>\n",
       "      <td>Dealer</td>\n",
       "      <td>Manual</td>\n",
       "      <td>0</td>\n",
       "    </tr>\n",
       "  </tbody>\n",
       "</table>\n",
       "</div>"
      ],
      "text/plain": [
       "  Car_Name  Year  Selling_Price  Present_Price  Kms_Driven Fuel_Type  \\\n",
       "0     ritz  2014           3.35           5.59       27000    Petrol   \n",
       "1      sx4  2013           4.75           9.54       43000    Diesel   \n",
       "2     ciaz  2017           7.25           9.85        6900    Petrol   \n",
       "3  wagon r  2011           2.85           4.15        5200    Petrol   \n",
       "4    swift  2014           4.60           6.87       42450    Diesel   \n",
       "\n",
       "  Seller_Type Transmission  Owner  \n",
       "0      Dealer       Manual      0  \n",
       "1      Dealer       Manual      0  \n",
       "2      Dealer       Manual      0  \n",
       "3      Dealer       Manual      0  \n",
       "4      Dealer       Manual      0  "
      ]
     },
     "execution_count": 54,
     "metadata": {},
     "output_type": "execute_result"
    }
   ],
   "source": [
    "data.head()"
   ]
  },
  {
   "cell_type": "code",
   "execution_count": null,
   "id": "d51a5949-3fd5-4113-9d8f-fd07eeb69ea7",
   "metadata": {},
   "outputs": [],
   "source": [
    "# Eliminamos los valores Atipicos"
   ]
  },
  {
   "cell_type": "code",
   "execution_count": 56,
   "id": "118acf03-0f31-4927-b708-241a4c15f9a2",
   "metadata": {},
   "outputs": [],
   "source": [
    "import seaborn as sns"
   ]
  },
  {
   "cell_type": "code",
   "execution_count": 58,
   "id": "6d090963-d14b-489f-8a23-a297e9adf66e",
   "metadata": {},
   "outputs": [
    {
     "data": {
      "text/plain": [
       "<Axes: ylabel='Selling_Price'>"
      ]
     },
     "execution_count": 58,
     "metadata": {},
     "output_type": "execute_result"
    },
    {
     "data": {
      "image/png": "[encoded data removed]",
      "text/plain": [
       "<Figure size 640x480 with 1 Axes>"
      ]
     },
     "metadata": {},
     "output_type": "display_data"
    }
   ],
   "source": [
    "sns.boxplot(data['Selling_Price'])"
   ]
  },
  {
   "cell_type": "code",
   "execution_count": 108,
   "id": "d1ff8c78-9ec7-42fb-8b5d-de20bed6b8d2",
   "metadata": {
    "scrolled": true
   },
   "outputs": [
    {
     "data": {
      "text/plain": [
       "[23.5,\n",
       " 23.0,\n",
       " 23.0,\n",
       " 23.0,\n",
       " 20.75,\n",
       " 19.99,\n",
       " 19.75,\n",
       " 18.75,\n",
       " 18.0,\n",
       " 17.0,\n",
       " 16.0,\n",
       " 14.9,\n",
       " 14.73,\n",
       " 14.5,\n",
       " 14.25,\n",
       " 12.9,\n",
       " 12.5,\n",
       " 11.75,\n",
       " 11.5,\n",
       " 11.45,\n",
       " 11.25,\n",
       " 11.25,\n",
       " 11.25,\n",
       " 10.9,\n",
       " 10.25,\n",
       " 10.11,\n",
       " 9.7,\n",
       " 9.65,\n",
       " 9.5,\n",
       " 9.25,\n",
       " 9.25,\n",
       " 9.25,\n",
       " 9.15,\n",
       " 9.1,\n",
       " 8.99,\n",
       " 8.75,\n",
       " 8.65,\n",
       " 8.55,\n",
       " 8.5,\n",
       " 8.4,\n",
       " 8.4,\n",
       " 8.35,\n",
       " 8.25,\n",
       " 8.25,\n",
       " 7.9,\n",
       " 7.75,\n",
       " 7.75,\n",
       " 7.75,\n",
       " 7.5,\n",
       " 7.5,\n",
       " 7.5,\n",
       " 7.45,\n",
       " 7.45,\n",
       " 7.45,\n",
       " 7.4,\n",
       " 7.25,\n",
       " 7.25,\n",
       " 7.2,\n",
       " 7.05,\n",
       " 6.95,\n",
       " 6.85,\n",
       " 6.75,\n",
       " 6.7,\n",
       " 6.6,\n",
       " 6.5,\n",
       " 6.5,\n",
       " 6.45,\n",
       " 6.4,\n",
       " 6.25,\n",
       " 6.25,\n",
       " 6.15,\n",
       " 6.1,\n",
       " 6.0,\n",
       " 6.0,\n",
       " 6.0,\n",
       " 6.0,\n",
       " 5.95,\n",
       " 5.95,\n",
       " 5.9,\n",
       " 5.85,\n",
       " 5.85,\n",
       " 5.8,\n",
       " 5.75,\n",
       " 5.75,\n",
       " 5.65,\n",
       " 5.5,\n",
       " 5.5,\n",
       " 5.5,\n",
       " 5.5,\n",
       " 5.5,\n",
       " 5.4,\n",
       " 5.4,\n",
       " 5.35,\n",
       " 5.3,\n",
       " 5.3,\n",
       " 5.25,\n",
       " 5.25,\n",
       " 5.25,\n",
       " 5.25,\n",
       " 5.25,\n",
       " 5.25,\n",
       " 5.25,\n",
       " 5.2,\n",
       " 5.15,\n",
       " 5.11,\n",
       " 5.0,\n",
       " 4.95,\n",
       " 4.95,\n",
       " 4.9,\n",
       " 4.9,\n",
       " 4.85,\n",
       " 4.8,\n",
       " 4.8,\n",
       " 4.75,\n",
       " 4.75,\n",
       " 4.75,\n",
       " 4.75,\n",
       " 4.75,\n",
       " 4.75,\n",
       " 4.65,\n",
       " 4.6,\n",
       " 4.5,\n",
       " 4.5,\n",
       " 4.5,\n",
       " 4.5,\n",
       " 4.5,\n",
       " 4.5,\n",
       " 4.5,\n",
       " 4.4,\n",
       " 4.4,\n",
       " 4.4,\n",
       " 4.35,\n",
       " 4.15,\n",
       " 4.1,\n",
       " 4.1,\n",
       " 4.0,\n",
       " 4.0,\n",
       " 4.0,\n",
       " 4.0,\n",
       " 4.0,\n",
       " 3.95,\n",
       " 3.95,\n",
       " 3.9,\n",
       " 3.9,\n",
       " 3.8,\n",
       " 3.75,\n",
       " 3.75,\n",
       " 3.65,\n",
       " 3.6,\n",
       " 3.51,\n",
       " 3.5,\n",
       " 3.5,\n",
       " 3.49,\n",
       " 3.45,\n",
       " 3.35,\n",
       " 3.35,\n",
       " 3.25,\n",
       " 3.25,\n",
       " 3.25,\n",
       " 3.15,\n",
       " 3.1,\n",
       " 3.1,\n",
       " 3.1,\n",
       " 3.1,\n",
       " 3.0,\n",
       " 3.0,\n",
       " 3.0,\n",
       " 3.0,\n",
       " 2.95,\n",
       " 2.95,\n",
       " 2.9,\n",
       " 2.9,\n",
       " 2.9,\n",
       " 2.85,\n",
       " 2.85,\n",
       " 2.85,\n",
       " 2.75,\n",
       " 2.75,\n",
       " 2.7,\n",
       " 2.65,\n",
       " 2.65,\n",
       " 2.65,\n",
       " 2.55,\n",
       " 2.55,\n",
       " 2.5,\n",
       " 2.5,\n",
       " 2.35,\n",
       " 2.25,\n",
       " 2.25,\n",
       " 2.25,\n",
       " 2.1,\n",
       " 2.0,\n",
       " 1.95,\n",
       " 1.95,\n",
       " 1.75,\n",
       " 1.7,\n",
       " 1.65,\n",
       " 1.5,\n",
       " 1.45,\n",
       " 1.35,\n",
       " 1.35,\n",
       " 1.35,\n",
       " 1.25,\n",
       " 1.25,\n",
       " 1.2,\n",
       " 1.2,\n",
       " 1.2,\n",
       " 1.15,\n",
       " 1.15,\n",
       " 1.15,\n",
       " 1.15,\n",
       " 1.11,\n",
       " 1.1,\n",
       " 1.1,\n",
       " 1.1,\n",
       " 1.05,\n",
       " 1.05,\n",
       " 1.05,\n",
       " 1.05,\n",
       " 1.05,\n",
       " 1.0,\n",
       " 0.95,\n",
       " 0.9,\n",
       " 0.9,\n",
       " 0.8,\n",
       " 0.78,\n",
       " 0.75,\n",
       " 0.75,\n",
       " 0.75,\n",
       " 0.75,\n",
       " 0.72,\n",
       " 0.65,\n",
       " 0.65,\n",
       " 0.65,\n",
       " 0.65,\n",
       " 0.6,\n",
       " 0.6,\n",
       " 0.6,\n",
       " 0.6,\n",
       " 0.6,\n",
       " 0.6,\n",
       " 0.6,\n",
       " 0.6,\n",
       " 0.55,\n",
       " 0.55,\n",
       " 0.52,\n",
       " 0.51,\n",
       " 0.5,\n",
       " 0.5,\n",
       " 0.5,\n",
       " 0.5,\n",
       " 0.5,\n",
       " 0.48,\n",
       " 0.48,\n",
       " 0.48,\n",
       " 0.48,\n",
       " 0.45,\n",
       " 0.45,\n",
       " 0.45,\n",
       " 0.45,\n",
       " 0.45,\n",
       " 0.45,\n",
       " 0.45,\n",
       " 0.45,\n",
       " 0.42,\n",
       " 0.42,\n",
       " 0.4,\n",
       " 0.4,\n",
       " 0.4,\n",
       " 0.4,\n",
       " 0.4,\n",
       " 0.38,\n",
       " 0.38,\n",
       " 0.35,\n",
       " 0.35,\n",
       " 0.35,\n",
       " 0.35,\n",
       " 0.31,\n",
       " 0.3,\n",
       " 0.3,\n",
       " 0.3,\n",
       " 0.27,\n",
       " 0.25,\n",
       " 0.25,\n",
       " 0.25,\n",
       " 0.25,\n",
       " 0.25,\n",
       " 0.2,\n",
       " 0.2,\n",
       " 0.2,\n",
       " 0.2,\n",
       " 0.2,\n",
       " 0.2,\n",
       " 0.18,\n",
       " 0.17,\n",
       " 0.16,\n",
       " 0.15,\n",
       " 0.12,\n",
       " 0.1]"
      ]
     },
     "execution_count": 108,
     "metadata": {},
     "output_type": "execute_result"
    }
   ],
   "source": [
    "sorted(data['Selling_Price'],reverse=True)"
   ]
  },
  {
   "cell_type": "code",
   "execution_count": null,
   "id": "0ecdf6a1-9630-49c7-acc8-08e8af50a23b",
   "metadata": {},
   "outputs": [],
   "source": [
    "# PASO 4 Dividir el dataset en train y test para evaluar correctamente el modelo a desarrollar."
   ]
  },
  {
   "cell_type": "code",
   "execution_count": 64,
   "id": "f3baefc8-fa82-48b2-8b94-00b7c739ff4a",
   "metadata": {},
   "outputs": [
    {
     "data": {
      "text/plain": [
       "array(['Petrol', 'Diesel', 'CNG'], dtype=object)"
      ]
     },
     "execution_count": 64,
     "metadata": {},
     "output_type": "execute_result"
    }
   ],
   "source": [
    "data['Fuel_Type'].unique()\n"
   ]
  },
  {
   "cell_type": "code",
   "execution_count": 66,
   "id": "988baa17-4911-4109-9531-c6f96d36fd39",
   "metadata": {},
   "outputs": [],
   "source": [
    "data['Fuel_Type'] = data['Fuel_Type'].map({'Petrol':0,'Diesel':1,'CNG':2})"
   ]
  },
  {
   "cell_type": "code",
   "execution_count": 68,
   "id": "149765cf-9c33-4a15-bb10-94e5b49cd1e6",
   "metadata": {},
   "outputs": [
    {
     "data": {
      "text/plain": [
       "array([0, 1, 2], dtype=int64)"
      ]
     },
     "execution_count": 68,
     "metadata": {},
     "output_type": "execute_result"
    }
   ],
   "source": [
    "data['Fuel_Type'].unique()\n"
   ]
  },
  {
   "cell_type": "code",
   "execution_count": 70,
   "id": "8ae405a2-2a88-4dd2-ac49-2a24f4e2b37c",
   "metadata": {},
   "outputs": [
    {
     "data": {
      "text/plain": [
       "array(['Dealer', 'Individual'], dtype=object)"
      ]
     },
     "execution_count": 70,
     "metadata": {},
     "output_type": "execute_result"
    }
   ],
   "source": [
    "data['Seller_Type'].unique()"
   ]
  },
  {
   "cell_type": "code",
   "execution_count": 72,
   "id": "c90597d1-cae8-4450-a934-4b1cc6bd619e",
   "metadata": {},
   "outputs": [],
   "source": [
    "data['Seller_Type'] = data['Seller_Type'].map({'Dealer':0,'Individual':1})"
   ]
  },
  {
   "cell_type": "code",
   "execution_count": 74,
   "id": "a0ca65ef-8be1-4fdd-b37d-cb1c161e40ea",
   "metadata": {},
   "outputs": [
    {
     "data": {
      "text/plain": [
       "array([0, 1], dtype=int64)"
      ]
     },
     "execution_count": 74,
     "metadata": {},
     "output_type": "execute_result"
    }
   ],
   "source": [
    "data['Seller_Type'].unique()"
   ]
  },
  {
   "cell_type": "code",
   "execution_count": 76,
   "id": "6a9e0ec5-1e52-4583-b8ac-cc62598ac147",
   "metadata": {},
   "outputs": [
    {
     "data": {
      "text/plain": [
       "array(['Manual', 'Automatic'], dtype=object)"
      ]
     },
     "execution_count": 76,
     "metadata": {},
     "output_type": "execute_result"
    }
   ],
   "source": [
    "data['Transmission'].unique()"
   ]
  },
  {
   "cell_type": "code",
   "execution_count": 78,
   "id": "7bb960e7-f7b6-43f0-bb9f-f6efa2640008",
   "metadata": {},
   "outputs": [],
   "source": [
    "data['Transmission'] =data['Transmission'].map({'Manual':0,'Automatic':1})"
   ]
  },
  {
   "cell_type": "code",
   "execution_count": 80,
   "id": "13629518-0604-438b-bf39-e81eb00e00b6",
   "metadata": {},
   "outputs": [
    {
     "data": {
      "text/plain": [
       "array([0, 1], dtype=int64)"
      ]
     },
     "execution_count": 80,
     "metadata": {},
     "output_type": "execute_result"
    }
   ],
   "source": [
    "data['Transmission'].unique()"
   ]
  },
  {
   "cell_type": "code",
   "execution_count": 88,
   "id": "bce4ec50-b225-45f3-8747-063e0970552f",
   "metadata": {},
   "outputs": [
    {
     "data": {
      "text/html": [
       "<div>\n",
       "<style scoped>\n",
       "    .dataframe tbody tr th:only-of-type {\n",
       "        vertical-align: middle;\n",
       "    }\n",
       "\n",
       "    .dataframe tbody tr th {\n",
       "        vertical-align: top;\n",
       "    }\n",
       "\n",
       "    .dataframe thead th {\n",
       "        text-align: right;\n",
       "    }\n",
       "</style>\n",
       "<table border=\"1\" class=\"dataframe\">\n",
       "  <thead>\n",
       "    <tr style=\"text-align: right;\">\n",
       "      <th></th>\n",
       "      <th>Car_Name</th>\n",
       "      <th>Year</th>\n",
       "      <th>Selling_Price</th>\n",
       "      <th>Present_Price</th>\n",
       "      <th>Kms_Driven</th>\n",
       "      <th>Fuel_Type</th>\n",
       "      <th>Seller_Type</th>\n",
       "      <th>Transmission</th>\n",
       "      <th>Owner</th>\n",
       "    </tr>\n",
       "  </thead>\n",
       "  <tbody>\n",
       "    <tr>\n",
       "      <th>0</th>\n",
       "      <td>ritz</td>\n",
       "      <td>2014</td>\n",
       "      <td>3.35</td>\n",
       "      <td>5.59</td>\n",
       "      <td>27000</td>\n",
       "      <td>0</td>\n",
       "      <td>0</td>\n",
       "      <td>0</td>\n",
       "      <td>0</td>\n",
       "    </tr>\n",
       "    <tr>\n",
       "      <th>1</th>\n",
       "      <td>sx4</td>\n",
       "      <td>2013</td>\n",
       "      <td>4.75</td>\n",
       "      <td>9.54</td>\n",
       "      <td>43000</td>\n",
       "      <td>1</td>\n",
       "      <td>0</td>\n",
       "      <td>0</td>\n",
       "      <td>0</td>\n",
       "    </tr>\n",
       "    <tr>\n",
       "      <th>2</th>\n",
       "      <td>ciaz</td>\n",
       "      <td>2017</td>\n",
       "      <td>7.25</td>\n",
       "      <td>9.85</td>\n",
       "      <td>6900</td>\n",
       "      <td>0</td>\n",
       "      <td>0</td>\n",
       "      <td>0</td>\n",
       "      <td>0</td>\n",
       "    </tr>\n",
       "    <tr>\n",
       "      <th>3</th>\n",
       "      <td>wagon r</td>\n",
       "      <td>2011</td>\n",
       "      <td>2.85</td>\n",
       "      <td>4.15</td>\n",
       "      <td>5200</td>\n",
       "      <td>0</td>\n",
       "      <td>0</td>\n",
       "      <td>0</td>\n",
       "      <td>0</td>\n",
       "    </tr>\n",
       "    <tr>\n",
       "      <th>4</th>\n",
       "      <td>swift</td>\n",
       "      <td>2014</td>\n",
       "      <td>4.60</td>\n",
       "      <td>6.87</td>\n",
       "      <td>42450</td>\n",
       "      <td>1</td>\n",
       "      <td>0</td>\n",
       "      <td>0</td>\n",
       "      <td>0</td>\n",
       "    </tr>\n",
       "  </tbody>\n",
       "</table>\n",
       "</div>"
      ],
      "text/plain": [
       "  Car_Name  Year  Selling_Price  Present_Price  Kms_Driven  Fuel_Type  \\\n",
       "0     ritz  2014           3.35           5.59       27000          0   \n",
       "1      sx4  2013           4.75           9.54       43000          1   \n",
       "2     ciaz  2017           7.25           9.85        6900          0   \n",
       "3  wagon r  2011           2.85           4.15        5200          0   \n",
       "4    swift  2014           4.60           6.87       42450          1   \n",
       "\n",
       "   Seller_Type  Transmission  Owner  \n",
       "0            0             0      0  \n",
       "1            0             0      0  \n",
       "2            0             0      0  \n",
       "3            0             0      0  \n",
       "4            0             0      0  "
      ]
     },
     "execution_count": 88,
     "metadata": {},
     "output_type": "execute_result"
    }
   ],
   "source": [
    "data.head()"
   ]
  },
  {
   "cell_type": "code",
   "execution_count": 90,
   "id": "f66e13c9-83fb-416e-9fa9-8ee5c59d34fd",
   "metadata": {},
   "outputs": [],
   "source": [
    "X = data.drop(['Car_Name','Selling_Price'],axis=1)\n",
    "y = data['Selling_Price']"
   ]
  },
  {
   "cell_type": "code",
   "execution_count": 96,
   "id": "c8f78114-92aa-4810-9fe0-83e4ea668d6b",
   "metadata": {},
   "outputs": [
    {
     "data": {
      "text/plain": [
       "0       3.35\n",
       "1       4.75\n",
       "2       7.25\n",
       "3       2.85\n",
       "4       4.60\n",
       "       ...  \n",
       "296     9.50\n",
       "297     4.00\n",
       "298     3.35\n",
       "299    11.50\n",
       "300     5.30\n",
       "Name: Selling_Price, Length: 301, dtype: float64"
      ]
     },
     "execution_count": 96,
     "metadata": {},
     "output_type": "execute_result"
    }
   ],
   "source": [
    "y"
   ]
  },
  {
   "cell_type": "code",
   "execution_count": 98,
   "id": "13bd60e2-6395-480e-a9b4-5157569a1603",
   "metadata": {},
   "outputs": [],
   "source": [
    "from sklearn.model_selection import train_test_split"
   ]
  },
  {
   "cell_type": "code",
   "execution_count": 92,
   "id": "10a1fb13-a5e7-499d-b14c-063d5a1df6cd",
   "metadata": {},
   "outputs": [],
   "source": [
    "# Dividir los datos para entrenamiento (train)= 75% , y para prueba (Test) =25%\n",
    "# se crean las variables x, y, para almacenar la informacion del entranamiento de nuestro modelo\n",
    "\n",
    "X_train,X_test,y_train,y_test=train_test_split(X,y,test_size=0.25,random_state=42)"
   ]
  },
  {
   "cell_type": "code",
   "execution_count": 94,
   "id": "7418d507-d866-4621-acb2-ef962e134465",
   "metadata": {},
   "outputs": [
    {
     "name": "stdout",
     "output_type": "stream",
     "text": [
      "     Year  Present_Price  Kms_Driven  Fuel_Type  Seller_Type  Transmission  \\\n",
      "129  2017           0.84        5000          0            1             0   \n",
      "232  2015          14.79       12900          0            0             1   \n",
      "195  2015           0.32       35000          0            1             0   \n",
      "277  2015          13.60       21780          0            0             0   \n",
      "280  2015           5.90       14465          0            0             0   \n",
      "..    ...            ...         ...        ...          ...           ...   \n",
      "188  2013           0.57       18000          0            1             0   \n",
      "71   2011          12.48       45000          1            0             0   \n",
      "106  2014           3.45       16500          0            1             0   \n",
      "270  2011          10.00       69341          0            0             0   \n",
      "102  2017           1.78        4000          0            1             0   \n",
      "\n",
      "     Owner  \n",
      "129      0  \n",
      "232      0  \n",
      "195      0  \n",
      "277      0  \n",
      "280      0  \n",
      "..     ...  \n",
      "188      0  \n",
      "71       0  \n",
      "106      1  \n",
      "270      0  \n",
      "102      0  \n",
      "\n",
      "[225 rows x 7 columns]\n"
     ]
    }
   ],
   "source": [
    "print (X_train)"
   ]
  },
  {
   "cell_type": "code",
   "execution_count": 183,
   "id": "d2d578cc-1f6e-490a-9ba6-75dd9dd4850c",
   "metadata": {},
   "outputs": [
    {
     "name": "stdout",
     "output_type": "stream",
     "text": [
      "227     2.55\n",
      "79     14.50\n",
      "67      9.25\n",
      "298     3.35\n",
      "194     0.20\n",
      "       ...  \n",
      "190     0.20\n",
      "72      7.45\n",
      "108     1.20\n",
      "272     7.50\n",
      "104     1.35\n",
      "Name: Selling_Price, Length: 224, dtype: float64\n"
     ]
    }
   ],
   "source": [
    "print (y_train)"
   ]
  },
  {
   "cell_type": "code",
   "execution_count": 185,
   "id": "89bfd459-5f03-4d50-865c-e30b5d753886",
   "metadata": {},
   "outputs": [
    {
     "name": "stdout",
     "output_type": "stream",
     "text": [
      "     Present_Price  Kms_Driven  Fuel_Type  Seller_Type  Transmission  Owner  \\\n",
      "283          11.80        9010          0            0             0      0   \n",
      "267           9.40       19434          1            0             0      0   \n",
      "166           0.55        1000          0            1             0      0   \n",
      "9             8.92       42367          1            0             0      0   \n",
      "78           22.83       80000          0            0             1      0   \n",
      "..             ...         ...        ...          ...           ...    ...   \n",
      "128           0.87        3000          0            1             0      0   \n",
      "230           9.40       45000          1            0             0      0   \n",
      "285           8.50       15059          0            0             1      0   \n",
      "257          13.60       40324          0            0             0      0   \n",
      "160           0.95       24000          0            1             0      0   \n",
      "\n",
      "     Age  \n",
      "283    8  \n",
      "267    8  \n",
      "166    8  \n",
      "9      9  \n",
      "78    14  \n",
      "..   ...  \n",
      "128    7  \n",
      "230   11  \n",
      "285    8  \n",
      "257    9  \n",
      "160   13  \n",
      "\n",
      "[75 rows x 7 columns]\n"
     ]
    }
   ],
   "source": [
    "print (X_test)"
   ]
  },
  {
   "cell_type": "code",
   "execution_count": 187,
   "id": "207320d2-6c28-4097-aa40-bc34ea9fc5bd",
   "metadata": {},
   "outputs": [
    {
     "name": "stdout",
     "output_type": "stream",
     "text": [
      "283    8.99\n",
      "267    8.35\n",
      "166    0.45\n",
      "9      7.45\n",
      "78     5.25\n",
      "       ... \n",
      "128    0.80\n",
      "230    6.15\n",
      "285    7.40\n",
      "257    8.50\n",
      "160    0.45\n",
      "Name: Selling_Price, Length: 75, dtype: float64\n"
     ]
    }
   ],
   "source": [
    "print (y_test)"
   ]
  },
  {
   "cell_type": "code",
   "execution_count": null,
   "id": "fdcd07c4-da98-45cb-86f8-1ebaefa71b9b",
   "metadata": {},
   "outputs": [],
   "source": [
    "# Almcenar en la matriz de correlación en X y en el vector Y "
   ]
  },
  {
   "cell_type": "code",
   "execution_count": 157,
   "id": "345e6f56-fc90-41fd-822b-ca6bf1c696c2",
   "metadata": {},
   "outputs": [],
   "source": [
    "X = data.drop(['Car_Name','Selling_Price'],axis=1)\n",
    "y = data['Selling_Price']"
   ]
  },
  {
   "cell_type": "code",
   "execution_count": 159,
   "id": "8d1b7846-20c8-49ab-b523-95b2d06ee5f7",
   "metadata": {},
   "outputs": [
    {
     "data": {
      "text/plain": [
       "0       3.35\n",
       "1       4.75\n",
       "2       7.25\n",
       "3       2.85\n",
       "4       4.60\n",
       "       ...  \n",
       "296     9.50\n",
       "297     4.00\n",
       "298     3.35\n",
       "299    11.50\n",
       "300     5.30\n",
       "Name: Selling_Price, Length: 299, dtype: float64"
      ]
     },
     "execution_count": 159,
     "metadata": {},
     "output_type": "execute_result"
    }
   ],
   "source": [
    "y"
   ]
  },
  {
   "cell_type": "code",
   "execution_count": null,
   "id": "d75e8da7-81ed-4fd5-82ad-70ca90720e70",
   "metadata": {},
   "outputs": [],
   "source": []
  },
  {
   "cell_type": "code",
   "execution_count": 124,
   "id": "00d9efb3-637a-4864-8301-cf40c262e7cc",
   "metadata": {},
   "outputs": [],
   "source": [
    "from sklearn.model_selection import train_test_split"
   ]
  },
  {
   "cell_type": "code",
   "execution_count": 126,
   "id": "6547e013-a5d0-49ec-9488-3ebb38ef1f2c",
   "metadata": {},
   "outputs": [],
   "source": [
    "X_train,X_test,y_train,y_test=train_test_split(X,y,test_size=0.20,random_state=42)"
   ]
  },
  {
   "cell_type": "code",
   "execution_count": null,
   "id": "1fcba13c-f4be-4305-a3cd-5a64a658a0fc",
   "metadata": {},
   "outputs": [],
   "source": [
    " # Entrenamiento del modelo"
   ]
  },
  {
   "cell_type": "code",
   "execution_count": 178,
   "id": "2eb81067-8665-49bf-98dd-6577d4de0341",
   "metadata": {},
   "outputs": [],
   "source": [
    "Kms_Driven = data ['Kms_Driven']\n",
    "Transmission = data ['Transmission']\n",
    "Selling_Price = data ['Selling_Price']\n",
    "Fuel_Type = data ['Fuel_Type']\n",
    "Present_Price = ['Present_Price']\n",
    "Year = data ['Year']"
   ]
  },
  {
   "cell_type": "code",
   "execution_count": 180,
   "id": "e93137c5-244f-4995-9de1-8e723f686a1d",
   "metadata": {},
   "outputs": [],
   "source": [
    "from matplotlib import style"
   ]
  },
  {
   "cell_type": "code",
   "execution_count": 168,
   "id": "db8cf1ee-074c-481f-9106-e9e35d11dc1f",
   "metadata": {},
   "outputs": [
    {
     "data": {
      "image/png": "[encoded data removed]",
      "text/plain": [
       "<Figure size 1500x500 with 3 Axes>"
      ]
     },
     "metadata": {},
     "output_type": "display_data"
    }
   ],
   "source": [
    "style.use('ggplot')\n",
    "fig = plt.figure(figsize=(15,5))\n",
    "fig.suptitle('Visualización de la información por columnas')\n",
    "plt.subplot(1,3,1)\n",
    "plt.bar(Fuel_Type,Selling_Price, color='royalblue')\n",
    "plt.xlabel(\"Fuel_Type\")\n",
    "plt.ylabel(\"Selling_Price\")\n",
    "plt.subplot(1,3,2)\n",
    "plt.bar(Present_Price,Selling_Price, color='red')\n",
    "plt.xlabel(\"Present_Price\")\n",
    "plt.subplot(1,3,3)\n",
    "plt.bar(Transmission,Selling_Price, color='purple')\n",
    "plt.xlabel(\"Transmission\")\n",
    "plt.show()\n"
   ]
  },
  {
   "cell_type": "code",
   "execution_count": 182,
   "id": "dd8629dd-ece1-442e-bc34-3a7803a6a721",
   "metadata": {},
   "outputs": [
    {
     "data": {
      "text/plain": [
       "<Axes: xlabel='Transmission', ylabel='Selling_Price'>"
      ]
     },
     "execution_count": 182,
     "metadata": {},
     "output_type": "execute_result"
    },
    {
     "data": {
      "image/png": "[encoded data removed]",
      "text/plain": [
       "<Figure size 1500x500 with 3 Axes>"
      ]
     },
     "metadata": {},
     "output_type": "display_data"
    }
   ],
   "source": [
    "fig, axes = plt.subplots(1,3,figsize=(15,5), sharey=True)\n",
    "fig.suptitle('Visualizacion de la informacion por columnas')\n",
    "sns.barplot(x=Fuel_Type, y=Selling_Price, ax=axes[0])\n",
    "sns.barplot(x=Year, y=Selling_Price, ax=axes[1])   \n",
    "sns.barplot(x=Transmission, y=Selling_Price, ax=axes[2])            \n",
    "            \n"
   ]
  },
  {
   "cell_type": "code",
   "execution_count": 184,
   "id": "ace56c04-3489-4624-8080-93d0fa278b8c",
   "metadata": {},
   "outputs": [],
   "source": [
    "from sklearn.model_selection import train_test_split"
   ]
  },
  {
   "cell_type": "code",
   "execution_count": 186,
   "id": "93b7f00e-18df-4eeb-87ee-e21e4e5ef802",
   "metadata": {},
   "outputs": [],
   "source": [
    "X_train,X_test,y_train,y_test=train_test_split(X,y,test_size=0.20,random_state=42)"
   ]
  },
  {
   "cell_type": "code",
   "execution_count": 225,
   "id": "f6b8564c-da64-460b-bcea-ed2d8c9f59fc",
   "metadata": {},
   "outputs": [],
   "source": [
    "from sklearn.linear_model import LinearRegression\n",
    "from sklearn.ensemble import RandomForestRegressor\n",
    "from sklearn.ensemble import GradientBoostingRegressor\n"
   ]
  },
  {
   "cell_type": "code",
   "execution_count": 237,
   "id": "3ea6eaf4-924c-4ac8-90fd-f1512100cc3e",
   "metadata": {},
   "outputs": [
    {
     "data": {
      "text/html": [
       "<style>#sk-container-id-2 {\n",
       "  /* Definition of color scheme common for light and dark mode */\n",
       "  --sklearn-color-text: black;\n",
       "  --sklearn-color-line: gray;\n",
       "  /* Definition of color scheme for unfitted estimators */\n",
       "  --sklearn-color-unfitted-level-0: #fff5e6;\n",
       "  --sklearn-color-unfitted-level-1: #f6e4d2;\n",
       "  --sklearn-color-unfitted-level-2: #ffe0b3;\n",
       "  --sklearn-color-unfitted-level-3: chocolate;\n",
       "  /* Definition of color scheme for fitted estimators */\n",
       "  --sklearn-color-fitted-level-0: #f0f8ff;\n",
       "  --sklearn-color-fitted-level-1: #d4ebff;\n",
       "  --sklearn-color-fitted-level-2: #b3dbfd;\n",
       "  --sklearn-color-fitted-level-3: cornflowerblue;\n",
       "\n",
       "  /* Specific color for light theme */\n",
       "  --sklearn-color-text-on-default-background: var(--sg-text-color, var(--theme-code-foreground, var(--jp-content-font-color1, black)));\n",
       "  --sklearn-color-background: var(--sg-background-color, var(--theme-background, var(--jp-layout-color0, white)));\n",
       "  --sklearn-color-border-box: var(--sg-text-color, var(--theme-code-foreground, var(--jp-content-font-color1, black)));\n",
       "  --sklearn-color-icon: #696969;\n",
       "\n",
       "  @media (prefers-color-scheme: dark) {\n",
       "    /* Redefinition of color scheme for dark theme */\n",
       "    --sklearn-color-text-on-default-background: var(--sg-text-color, var(--theme-code-foreground, var(--jp-content-font-color1, white)));\n",
       "    --sklearn-color-background: var(--sg-background-color, var(--theme-background, var(--jp-layout-color0, #111)));\n",
       "    --sklearn-color-border-box: var(--sg-text-color, var(--theme-code-foreground, var(--jp-content-font-color1, white)));\n",
       "    --sklearn-color-icon: #878787;\n",
       "  }\n",
       "}\n",
       "\n",
       "#sk-container-id-2 {\n",
       "  color: var(--sklearn-color-text);\n",
       "}\n",
       "\n",
       "#sk-container-id-2 pre {\n",
       "  padding: 0;\n",
       "}\n",
       "\n",
       "#sk-container-id-2 input.sk-hidden--visually {\n",
       "  border: 0;\n",
       "  clip: rect(1px 1px 1px 1px);\n",
       "  clip: rect(1px, 1px, 1px, 1px);\n",
       "  height: 1px;\n",
       "  margin: -1px;\n",
       "  overflow: hidden;\n",
       "  padding: 0;\n",
       "  position: absolute;\n",
       "  width: 1px;\n",
       "}\n",
       "\n",
       "#sk-container-id-2 div.sk-dashed-wrapped {\n",
       "  border: 1px dashed var(--sklearn-color-line);\n",
       "  margin: 0 0.4em 0.5em 0.4em;\n",
       "  box-sizing: border-box;\n",
       "  padding-bottom: 0.4em;\n",
       "  background-color: var(--sklearn-color-background);\n",
       "}\n",
       "\n",
       "#sk-container-id-2 div.sk-container {\n",
       "  /* jupyter's `normalize.less` sets `[hidden] { display: none; }`\n",
       "     but bootstrap.min.css set `[hidden] { display: none !important; }`\n",
       "     so we also need the `!important` here to be able to override the\n",
       "     default hidden behavior on the sphinx rendered scikit-learn.org.\n",
       "     See: https://github.com/scikit-learn/scikit-learn/issues/21755 */\n",
       "  display: inline-block !important;\n",
       "  position: relative;\n",
       "}\n",
       "\n",
       "#sk-container-id-2 div.sk-text-repr-fallback {\n",
       "  display: none;\n",
       "}\n",
       "\n",
       "div.sk-parallel-item,\n",
       "div.sk-serial,\n",
       "div.sk-item {\n",
       "  /* draw centered vertical line to link estimators */\n",
       "  background-image: linear-gradient(var(--sklearn-color-text-on-default-background), var(--sklearn-color-text-on-default-background));\n",
       "  background-size: 2px 100%;\n",
       "  background-repeat: no-repeat;\n",
       "  background-position: center center;\n",
       "}\n",
       "\n",
       "/* Parallel-specific style estimator block */\n",
       "\n",
       "#sk-container-id-2 div.sk-parallel-item::after {\n",
       "  content: \"\";\n",
       "  width: 100%;\n",
       "  border-bottom: 2px solid var(--sklearn-color-text-on-default-background);\n",
       "  flex-grow: 1;\n",
       "}\n",
       "\n",
       "#sk-container-id-2 div.sk-parallel {\n",
       "  display: flex;\n",
       "  align-items: stretch;\n",
       "  justify-content: center;\n",
       "  background-color: var(--sklearn-color-background);\n",
       "  position: relative;\n",
       "}\n",
       "\n",
       "#sk-container-id-2 div.sk-parallel-item {\n",
       "  display: flex;\n",
       "  flex-direction: column;\n",
       "}\n",
       "\n",
       "#sk-container-id-2 div.sk-parallel-item:first-child::after {\n",
       "  align-self: flex-end;\n",
       "  width: 50%;\n",
       "}\n",
       "\n",
       "#sk-container-id-2 div.sk-parallel-item:last-child::after {\n",
       "  align-self: flex-start;\n",
       "  width: 50%;\n",
       "}\n",
       "\n",
       "#sk-container-id-2 div.sk-parallel-item:only-child::after {\n",
       "  width: 0;\n",
       "}\n",
       "\n",
       "/* Serial-specific style estimator block */\n",
       "\n",
       "#sk-container-id-2 div.sk-serial {\n",
       "  display: flex;\n",
       "  flex-direction: column;\n",
       "  align-items: center;\n",
       "  background-color: var(--sklearn-color-background);\n",
       "  padding-right: 1em;\n",
       "  padding-left: 1em;\n",
       "}\n",
       "\n",
       "\n",
       "/* Toggleable style: style used for estimator/Pipeline/ColumnTransformer box that is\n",
       "clickable and can be expanded/collapsed.\n",
       "- Pipeline and ColumnTransformer use this feature and define the default style\n",
       "- Estimators will overwrite some part of the style using the `sk-estimator` class\n",
       "*/\n",
       "\n",
       "/* Pipeline and ColumnTransformer style (default) */\n",
       "\n",
       "#sk-container-id-2 div.sk-toggleable {\n",
       "  /* Default theme specific background. It is overwritten whether we have a\n",
       "  specific estimator or a Pipeline/ColumnTransformer */\n",
       "  background-color: var(--sklearn-color-background);\n",
       "}\n",
       "\n",
       "/* Toggleable label */\n",
       "#sk-container-id-2 label.sk-toggleable__label {\n",
       "  cursor: pointer;\n",
       "  display: block;\n",
       "  width: 100%;\n",
       "  margin-bottom: 0;\n",
       "  padding: 0.5em;\n",
       "  box-sizing: border-box;\n",
       "  text-align: center;\n",
       "}\n",
       "\n",
       "#sk-container-id-2 label.sk-toggleable__label-arrow:before {\n",
       "  /* Arrow on the left of the label */\n",
       "  content: \"▸\";\n",
       "  float: left;\n",
       "  margin-right: 0.25em;\n",
       "  color: var(--sklearn-color-icon);\n",
       "}\n",
       "\n",
       "#sk-container-id-2 label.sk-toggleable__label-arrow:hover:before {\n",
       "  color: var(--sklearn-color-text);\n",
       "}\n",
       "\n",
       "/* Toggleable content - dropdown */\n",
       "\n",
       "#sk-container-id-2 div.sk-toggleable__content {\n",
       "  max-height: 0;\n",
       "  max-width: 0;\n",
       "  overflow: hidden;\n",
       "  text-align: left;\n",
       "  /* unfitted */\n",
       "  background-color: var(--sklearn-color-unfitted-level-0);\n",
       "}\n",
       "\n",
       "#sk-container-id-2 div.sk-toggleable__content.fitted {\n",
       "  /* fitted */\n",
       "  background-color: var(--sklearn-color-fitted-level-0);\n",
       "}\n",
       "\n",
       "#sk-container-id-2 div.sk-toggleable__content pre {\n",
       "  margin: 0.2em;\n",
       "  border-radius: 0.25em;\n",
       "  color: var(--sklearn-color-text);\n",
       "  /* unfitted */\n",
       "  background-color: var(--sklearn-color-unfitted-level-0);\n",
       "}\n",
       "\n",
       "#sk-container-id-2 div.sk-toggleable__content.fitted pre {\n",
       "  /* unfitted */\n",
       "  background-color: var(--sklearn-color-fitted-level-0);\n",
       "}\n",
       "\n",
       "#sk-container-id-2 input.sk-toggleable__control:checked~div.sk-toggleable__content {\n",
       "  /* Expand drop-down */\n",
       "  max-height: 200px;\n",
       "  max-width: 100%;\n",
       "  overflow: auto;\n",
       "}\n",
       "\n",
       "#sk-container-id-2 input.sk-toggleable__control:checked~label.sk-toggleable__label-arrow:before {\n",
       "  content: \"▾\";\n",
       "}\n",
       "\n",
       "/* Pipeline/ColumnTransformer-specific style */\n",
       "\n",
       "#sk-container-id-2 div.sk-label input.sk-toggleable__control:checked~label.sk-toggleable__label {\n",
       "  color: var(--sklearn-color-text);\n",
       "  background-color: var(--sklearn-color-unfitted-level-2);\n",
       "}\n",
       "\n",
       "#sk-container-id-2 div.sk-label.fitted input.sk-toggleable__control:checked~label.sk-toggleable__label {\n",
       "  background-color: var(--sklearn-color-fitted-level-2);\n",
       "}\n",
       "\n",
       "/* Estimator-specific style */\n",
       "\n",
       "/* Colorize estimator box */\n",
       "#sk-container-id-2 div.sk-estimator input.sk-toggleable__control:checked~label.sk-toggleable__label {\n",
       "  /* unfitted */\n",
       "  background-color: var(--sklearn-color-unfitted-level-2);\n",
       "}\n",
       "\n",
       "#sk-container-id-2 div.sk-estimator.fitted input.sk-toggleable__control:checked~label.sk-toggleable__label {\n",
       "  /* fitted */\n",
       "  background-color: var(--sklearn-color-fitted-level-2);\n",
       "}\n",
       "\n",
       "#sk-container-id-2 div.sk-label label.sk-toggleable__label,\n",
       "#sk-container-id-2 div.sk-label label {\n",
       "  /* The background is the default theme color */\n",
       "  color: var(--sklearn-color-text-on-default-background);\n",
       "}\n",
       "\n",
       "/* On hover, darken the color of the background */\n",
       "#sk-container-id-2 div.sk-label:hover label.sk-toggleable__label {\n",
       "  color: var(--sklearn-color-text);\n",
       "  background-color: var(--sklearn-color-unfitted-level-2);\n",
       "}\n",
       "\n",
       "/* Label box, darken color on hover, fitted */\n",
       "#sk-container-id-2 div.sk-label.fitted:hover label.sk-toggleable__label.fitted {\n",
       "  color: var(--sklearn-color-text);\n",
       "  background-color: var(--sklearn-color-fitted-level-2);\n",
       "}\n",
       "\n",
       "/* Estimator label */\n",
       "\n",
       "#sk-container-id-2 div.sk-label label {\n",
       "  font-family: monospace;\n",
       "  font-weight: bold;\n",
       "  display: inline-block;\n",
       "  line-height: 1.2em;\n",
       "}\n",
       "\n",
       "#sk-container-id-2 div.sk-label-container {\n",
       "  text-align: center;\n",
       "}\n",
       "\n",
       "/* Estimator-specific */\n",
       "#sk-container-id-2 div.sk-estimator {\n",
       "  font-family: monospace;\n",
       "  border: 1px dotted var(--sklearn-color-border-box);\n",
       "  border-radius: 0.25em;\n",
       "  box-sizing: border-box;\n",
       "  margin-bottom: 0.5em;\n",
       "  /* unfitted */\n",
       "  background-color: var(--sklearn-color-unfitted-level-0);\n",
       "}\n",
       "\n",
       "#sk-container-id-2 div.sk-estimator.fitted {\n",
       "  /* fitted */\n",
       "  background-color: var(--sklearn-color-fitted-level-0);\n",
       "}\n",
       "\n",
       "/* on hover */\n",
       "#sk-container-id-2 div.sk-estimator:hover {\n",
       "  /* unfitted */\n",
       "  background-color: var(--sklearn-color-unfitted-level-2);\n",
       "}\n",
       "\n",
       "#sk-container-id-2 div.sk-estimator.fitted:hover {\n",
       "  /* fitted */\n",
       "  background-color: var(--sklearn-color-fitted-level-2);\n",
       "}\n",
       "\n",
       "/* Specification for estimator info (e.g. \"i\" and \"?\") */\n",
       "\n",
       "/* Common style for \"i\" and \"?\" */\n",
       "\n",
       ".sk-estimator-doc-link,\n",
       "a:link.sk-estimator-doc-link,\n",
       "a:visited.sk-estimator-doc-link {\n",
       "  float: right;\n",
       "  font-size: smaller;\n",
       "  line-height: 1em;\n",
       "  font-family: monospace;\n",
       "  background-color: var(--sklearn-color-background);\n",
       "  border-radius: 1em;\n",
       "  height: 1em;\n",
       "  width: 1em;\n",
       "  text-decoration: none !important;\n",
       "  margin-left: 1ex;\n",
       "  /* unfitted */\n",
       "  border: var(--sklearn-color-unfitted-level-1) 1pt solid;\n",
       "  color: var(--sklearn-color-unfitted-level-1);\n",
       "}\n",
       "\n",
       ".sk-estimator-doc-link.fitted,\n",
       "a:link.sk-estimator-doc-link.fitted,\n",
       "a:visited.sk-estimator-doc-link.fitted {\n",
       "  /* fitted */\n",
       "  border: var(--sklearn-color-fitted-level-1) 1pt solid;\n",
       "  color: var(--sklearn-color-fitted-level-1);\n",
       "}\n",
       "\n",
       "/* On hover */\n",
       "div.sk-estimator:hover .sk-estimator-doc-link:hover,\n",
       ".sk-estimator-doc-link:hover,\n",
       "div.sk-label-container:hover .sk-estimator-doc-link:hover,\n",
       ".sk-estimator-doc-link:hover {\n",
       "  /* unfitted */\n",
       "  background-color: var(--sklearn-color-unfitted-level-3);\n",
       "  color: var(--sklearn-color-background);\n",
       "  text-decoration: none;\n",
       "}\n",
       "\n",
       "div.sk-estimator.fitted:hover .sk-estimator-doc-link.fitted:hover,\n",
       ".sk-estimator-doc-link.fitted:hover,\n",
       "div.sk-label-container:hover .sk-estimator-doc-link.fitted:hover,\n",
       ".sk-estimator-doc-link.fitted:hover {\n",
       "  /* fitted */\n",
       "  background-color: var(--sklearn-color-fitted-level-3);\n",
       "  color: var(--sklearn-color-background);\n",
       "  text-decoration: none;\n",
       "}\n",
       "\n",
       "/* Span, style for the box shown on hovering the info icon */\n",
       ".sk-estimator-doc-link span {\n",
       "  display: none;\n",
       "  z-index: 9999;\n",
       "  position: relative;\n",
       "  font-weight: normal;\n",
       "  right: .2ex;\n",
       "  padding: .5ex;\n",
       "  margin: .5ex;\n",
       "  width: min-content;\n",
       "  min-width: 20ex;\n",
       "  max-width: 50ex;\n",
       "  color: var(--sklearn-color-text);\n",
       "  box-shadow: 2pt 2pt 4pt #999;\n",
       "  /* unfitted */\n",
       "  background: var(--sklearn-color-unfitted-level-0);\n",
       "  border: .5pt solid var(--sklearn-color-unfitted-level-3);\n",
       "}\n",
       "\n",
       ".sk-estimator-doc-link.fitted span {\n",
       "  /* fitted */\n",
       "  background: var(--sklearn-color-fitted-level-0);\n",
       "  border: var(--sklearn-color-fitted-level-3);\n",
       "}\n",
       "\n",
       ".sk-estimator-doc-link:hover span {\n",
       "  display: block;\n",
       "}\n",
       "\n",
       "/* \"?\"-specific style due to the `<a>` HTML tag */\n",
       "\n",
       "#sk-container-id-2 a.estimator_doc_link {\n",
       "  float: right;\n",
       "  font-size: 1rem;\n",
       "  line-height: 1em;\n",
       "  font-family: monospace;\n",
       "  background-color: var(--sklearn-color-background);\n",
       "  border-radius: 1rem;\n",
       "  height: 1rem;\n",
       "  width: 1rem;\n",
       "  text-decoration: none;\n",
       "  /* unfitted */\n",
       "  color: var(--sklearn-color-unfitted-level-1);\n",
       "  border: var(--sklearn-color-unfitted-level-1) 1pt solid;\n",
       "}\n",
       "\n",
       "#sk-container-id-2 a.estimator_doc_link.fitted {\n",
       "  /* fitted */\n",
       "  border: var(--sklearn-color-fitted-level-1) 1pt solid;\n",
       "  color: var(--sklearn-color-fitted-level-1);\n",
       "}\n",
       "\n",
       "/* On hover */\n",
       "#sk-container-id-2 a.estimator_doc_link:hover {\n",
       "  /* unfitted */\n",
       "  background-color: var(--sklearn-color-unfitted-level-3);\n",
       "  color: var(--sklearn-color-background);\n",
       "  text-decoration: none;\n",
       "}\n",
       "\n",
       "#sk-container-id-2 a.estimator_doc_link.fitted:hover {\n",
       "  /* fitted */\n",
       "  background-color: var(--sklearn-color-fitted-level-3);\n",
       "}\n",
       "</style><div id=\"sk-container-id-2\" class=\"sk-top-container\"><div class=\"sk-text-repr-fallback\"><pre>GradientBoostingRegressor()</pre><b>In a Jupyter environment, please rerun this cell to show the HTML representation or trust the notebook. <br />On GitHub, the HTML representation is unable to render, please try loading this page with nbviewer.org.</b></div><div class=\"sk-container\" hidden><div class=\"sk-item\"><div class=\"sk-estimator fitted sk-toggleable\"><input class=\"sk-toggleable__control sk-hidden--visually\" id=\"sk-estimator-id-2\" type=\"checkbox\" checked><label for=\"sk-estimator-id-2\" class=\"sk-toggleable__label fitted sk-toggleable__label-arrow fitted\">&nbsp;&nbsp;GradientBoostingRegressor<a class=\"sk-estimator-doc-link fitted\" rel=\"noreferrer\" target=\"_blank\" href=\"https://scikit-learn.org/1.4/modules/generated/sklearn.ensemble.GradientBoostingRegressor.html\">?<span>Documentation for GradientBoostingRegressor</span></a><span class=\"sk-estimator-doc-link fitted\">i<span>Fitted</span></span></label><div class=\"sk-toggleable__content fitted\"><pre>GradientBoostingRegressor()</pre></div> </div></div></div></div>"
      ],
      "text/plain": [
       "GradientBoostingRegressor()"
      ]
     },
     "execution_count": 237,
     "metadata": {},
     "output_type": "execute_result"
    }
   ],
   "source": [
    "lr = LinearRegression()\n",
    "lr.fit(X_train,y_train)\n",
    "\n",
    "rf = RandomForestRegressor()\n",
    "rf.fit(X_train,y_train)\n",
    "\n",
    "xgb = GradientBoostingRegressor()\n",
    "xgb.fit(X_train,y_train)\n",
    "\n"
   ]
  },
  {
   "cell_type": "code",
   "execution_count": 229,
   "id": "b151da50-3e9b-4a98-a1e5-db65564e082f",
   "metadata": {},
   "outputs": [],
   "source": [
    "y_pred1 = lr.predict(X_test)\n",
    "y_pred2 = rf.predict(X_test)\n",
    "y_pred3 = xgb.predict(X_test)\n"
   ]
  },
  {
   "cell_type": "code",
   "execution_count": null,
   "id": "652659d4-08bb-41e2-b000-0a4d0d63e469",
   "metadata": {},
   "outputs": [],
   "source": [
    "# evaluamos el algoritmo"
   ]
  },
  {
   "cell_type": "code",
   "execution_count": 239,
   "id": "7f080b25-a6cd-41d8-8a9a-d42b517384c0",
   "metadata": {},
   "outputs": [],
   "source": [
    "from sklearn import metrics"
   ]
  },
  {
   "cell_type": "code",
   "execution_count": 291,
   "id": "c4b7323c-8acb-4ff7-a6c8-0c05b4fef372",
   "metadata": {},
   "outputs": [],
   "source": [
    "score0 = metrics.r2_score(y_test,y_pred1)\n",
    "score1 = metrics.r2_score(y_test,y_pred2)\n",
    "score2 = metrics.r2_score(y_test,y_pred3)\n"
   ]
  },
  {
   "cell_type": "code",
   "execution_count": 293,
   "id": "6b7f58b0-585c-40b9-8b65-74ee7e9adce7",
   "metadata": {},
   "outputs": [
    {
     "name": "stdout",
     "output_type": "stream",
     "text": [
      "0.9663801121329292 0.9719502808689116 0.9719502808689116\n"
     ]
    }
   ],
   "source": [
    "print(score1,score2,score3,)"
   ]
  },
  {
   "cell_type": "code",
   "execution_count": 295,
   "id": "7e0aeb63-cb6d-4188-9734-f5e99ffde087",
   "metadata": {},
   "outputs": [],
   "source": [
    "final_data = pd.DataFrame({'Models':['LR','RF','GBR',],\n",
    "             \"R2_SCORE\":[score0,score1,score2,]})"
   ]
  },
  {
   "cell_type": "code",
   "execution_count": 287,
   "id": "e4ebf692-6085-48c3-80bb-c245cf0a6253",
   "metadata": {},
   "outputs": [
    {
     "data": {
      "text/html": [
       "<div>\n",
       "<style scoped>\n",
       "    .dataframe tbody tr th:only-of-type {\n",
       "        vertical-align: middle;\n",
       "    }\n",
       "\n",
       "    .dataframe tbody tr th {\n",
       "        vertical-align: top;\n",
       "    }\n",
       "\n",
       "    .dataframe thead th {\n",
       "        text-align: right;\n",
       "    }\n",
       "</style>\n",
       "<table border=\"1\" class=\"dataframe\">\n",
       "  <thead>\n",
       "    <tr style=\"text-align: right;\">\n",
       "      <th></th>\n",
       "      <th>Models</th>\n",
       "      <th>R2_SCORE</th>\n",
       "    </tr>\n",
       "  </thead>\n",
       "  <tbody>\n",
       "    <tr>\n",
       "      <th>0</th>\n",
       "      <td>LR</td>\n",
       "      <td>0.846805</td>\n",
       "    </tr>\n",
       "    <tr>\n",
       "      <th>1</th>\n",
       "      <td>RF</td>\n",
       "      <td>0.966380</td>\n",
       "    </tr>\n",
       "    <tr>\n",
       "      <th>2</th>\n",
       "      <td>GBR</td>\n",
       "      <td>0.971950</td>\n",
       "    </tr>\n",
       "  </tbody>\n",
       "</table>\n",
       "</div>"
      ],
      "text/plain": [
       "  Models  R2_SCORE\n",
       "0     LR  0.846805\n",
       "1     RF  0.966380\n",
       "2    GBR  0.971950"
      ]
     },
     "execution_count": 287,
     "metadata": {},
     "output_type": "execute_result"
    }
   ],
   "source": [
    "final_data"
   ]
  },
  {
   "cell_type": "code",
   "execution_count": 269,
   "id": "21bfd3f2-4e5c-40b6-9de6-f9d1433df69d",
   "metadata": {},
   "outputs": [
    {
     "data": {
      "text/plain": [
       "<Axes: title={'center': 'Correlación entre el Modelo del Vehiculo frente al precio de venta'}, xlabel='Year', ylabel='Selling_Price'>"
      ]
     },
     "execution_count": 269,
     "metadata": {},
     "output_type": "execute_result"
    },
    {
     "data": {
      "image/png": "[encoded data removed]",
      "text/plain": [
       "<Figure size 700x500 with 1 Axes>"
      ]
     },
     "metadata": {},
     "output_type": "display_data"
    }
   ],
   "source": [
    "fig=plt. figure(figsize=(7,5))\n",
    "plt.title('Correlación entre el Modelo del Vehiculo frente al precio de venta')\n",
    "sns.regplot(x='Year', y= 'Selling_Price', data=data)"
   ]
  },
  {
   "cell_type": "code",
   "execution_count": 267,
   "id": "9086b3a9-1699-4f39-bc2c-d5665ce4305c",
   "metadata": {},
   "outputs": [
    {
     "data": {
      "text/plain": [
       "<Axes: title={'center': 'Correlación entre el Precio Actual y el precio de venta'}, xlabel='Present_Price', ylabel='Selling_Price'>"
      ]
     },
     "execution_count": 267,
     "metadata": {},
     "output_type": "execute_result"
    },
    {
     "data": {
      "image/png": "[encoded data removed]",
      "text/plain": [
       "<Figure size 700x500 with 1 Axes>"
      ]
     },
     "metadata": {},
     "output_type": "display_data"
    }
   ],
   "source": [
    "fig=plt. figure(figsize=(7,5))\n",
    "plt.title('Correlación entre el Precio Actual y el precio de venta')\n",
    "sns.regplot(x='Present_Price', y= 'Selling_Price', data=data)"
   ]
  },
  {
   "cell_type": "code",
   "execution_count": 398,
   "id": "25440099-0eb9-4974-8f46-a03379197c64",
   "metadata": {},
   "outputs": [
    {
     "data": {
      "image/png": "[encoded data removed]",
      "text/plain": [
       "<Figure size 640x480 with 1 Axes>"
      ]
     },
     "metadata": {},
     "output_type": "display_data"
    }
   ],
   "source": [
    "# Vamos a RECORTAR los datos en la zona donde se concentran más los puntos\n",
    "# esto es en el eje X: entre 1990 y 2020\n",
    "# y en el eje Y: entre 2004 y 2018\n",
    "filtered_data = data[(data['Year'] <= 2018) & (data['Selling_Price'] <= 600000)]\n",
    " \n",
    "colores=['red','yellow']\n",
    "tamaños=[25,75]\n",
    " \n",
    "f1 = filtered_data['Year'].values\n",
    "f2 = filtered_data['Selling_Price'].values\n",
    " \n",
    "# Vamos a pintar en colores los puntos por debajo y por encima de la media\n",
    "asignar=[]\n",
    "for index, row in filtered_data.iterrows():\n",
    "    if(row['Year']>2018):\n",
    "        asignar.append(colores[0])\n",
    "    else:\n",
    "        asignar.append(colores[1])\n",
    "    \n",
    "plt.scatter(f1, f2, c=asignar, s=tamaños[0])\n",
    "plt.show()"
   ]
  },
  {
   "cell_type": "code",
   "execution_count": null,
   "id": "9d789db8-fd58-4e76-bd9f-840ac72ed5bd",
   "metadata": {},
   "outputs": [],
   "source": [
    "# PASO 6  evaluacion del modelo "
   ]
  },
  {
   "cell_type": "code",
   "execution_count": 301,
   "id": "01cc71cd-0954-455f-a812-b3e7bc5386d0",
   "metadata": {},
   "outputs": [],
   "source": [
    "import joblib"
   ]
  },
  {
   "cell_type": "code",
   "execution_count": 313,
   "id": "69600002-d0d2-47ac-b857-5057f48af7d4",
   "metadata": {},
   "outputs": [],
   "source": [
    "import pandas as pd\n",
    "data_new = pd.DataFrame({\n",
    "    'Present_Price':5.59,\n",
    "    'Kms_Driven':27000,\n",
    "    'Fuel_Type':0,\n",
    "    'Seller_Type':0,\n",
    "    'Transmission':0,\n",
    "    'Owner':0,\n",
    "    'Age':8\n",
    "},index=[0])"
   ]
  }
 ],
 "metadata": {
  "kernelspec": {
   "display_name": "Python 3 (ipykernel)",
   "language": "python",
   "name": "python3"
  },
  "language_info": {
   "codemirror_mode": {
    "name": "ipython",
    "version": 3
   },
   "file_extension": ".py",
   "mimetype": "text/x-python",
   "name": "python",
   "nbconvert_exporter": "python",
   "pygments_lexer": "ipython3",
   "version": "3.12.4"
  }
 },
 "nbformat": 4,
 "nbformat_minor": 5
}
